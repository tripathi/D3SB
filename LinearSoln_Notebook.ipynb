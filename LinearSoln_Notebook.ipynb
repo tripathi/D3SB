{
 "cells": [
  {
   "cell_type": "code",
   "execution_count": null,
   "metadata": {
    "collapsed": true
   },
   "outputs": [],
   "source": [
    "%matplotlib inline\n",
    "import numpy as np\n",
    "import scipy.special as sc\n",
    "from scipy import stats\n",
    "import scipy.linalg as scalg\n",
    "import matplotlib.pyplot as plt\n",
    "import pdb\n",
    "from deprojectVis import deproject_vis\n",
    "from scipy.linalg import cho_factor, cho_solve"
   ]
  },
  {
   "cell_type": "code",
   "execution_count": null,
   "metadata": {
    "collapsed": true
   },
   "outputs": [],
   "source": [
    "#Squared exponential kernel\n",
    "def exp2kernel(i1, i2, ibins=None, a=None, l=None):\n",
    "    ri = ibins[i1]\n",
    "    rj = ibins[i2]\n",
    "    tol = 1e-6\n",
    "    nugget = np.zeros_like(ri)\n",
    "    nugget[(ri-rj)<tol] = 1e-16 #AD HOC!        \n",
    "    return a*a * np.exp(-((ri - rj)**2.)/(2.*l*l))+nugget\n",
    "\n",
    "#Covariance matrix for intensities\n",
    "def calccovar(binsin, ain, lin):\n",
    "    '''\n",
    "    Calculate the covariance matrix using a squared exponential kernel\n",
    "    a: normalization amplitude\n",
    "    l: correlation length\n",
    "    '''\n",
    "    nbins = binsin.shape[0]\n",
    "    cov = np.fromfunction(exp2kernel,(nbins,nbins), ibins=binsin, a=ain, l=lin, dtype = np.int)\n",
    "    return cov\n"
   ]
  },
  {
   "cell_type": "code",
   "execution_count": null,
   "metadata": {
    "collapsed": false
   },
   "outputs": [],
   "source": [
    "##1 - Data setup\n",
    "##We have Ndata data visibilities (D), with covariance matrix Sigma\n",
    "\n",
    "#1a. Read in visibility data\n",
    "visfilename = 'DATA/fullA_nf_discrete.vis.npz' ##Set _nf_discrete\n",
    "datfile = np.load(visfilename)\n",
    "Dorig = datfile['Vis']\n",
    "uorig = datfile['u']\n",
    "vorig = datfile['v']\n",
    "rhoorig = np.sqrt(uorig**2. + vorig**2.)\n",
    "Dwgtorig = datfile['Wgt']\n",
    "#Sigmainv = np.diag(Dwgtorig) #a little unnecessary\n",
    "\n",
    "#1b. Deproject (and optionally bin) the visibilities so that they're face-on\n",
    "incl = 50. #deg\n",
    "PA = 70. #deg\n",
    "offx = -0.3 #arcsec\n",
    "offy = -0.2 #arcsec\n",
    "#visbins = np.arange(1., np.amax(rhoorig)/1000, 10) #Visibility bins\n",
    "nvisbins = 100. ##Set\n",
    "if (nvisbins>1):\n",
    "   #visbins = np.linspace(np.amin(rhoorig)/1000., np.amax(rhoorig)/1000., nvisbins)\n",
    "   #!!MAY NEED CHANGING!!\n",
    "   visbins = stats.mstats.mquantiles(rhoorig/1000, np.arange(nvisbins)/nvisbins) #Changing the bins to have roughly even numbers of visibilities in each        \n",
    "   rhodeproj, Ddeproj, sigdeproj = deproject_vis([uorig, vorig, Dorig, Dwgtorig], visbins, incl, PA, offx, offy, errtype='scat')\n",
    "else:\n",
    "   rhodeproj, Ddeproj, sigdeproj = deproject_vis([uorig, vorig, Dorig, Dwgtorig], incl=incl, PA=PA, offx=offx, offy=offy)\n",
    "\n",
    "#1c. Set data variables (currently only using real parts)\n",
    "arcsec = 180./np.pi*3600.\n",
    "D = Ddeproj.real\n",
    "rho = rhodeproj/arcsec #units of 1/arcsec\n",
    "Sigmainv = np.diag(1./np.square(sigdeproj.real))\n",
    "Ndata = D.size\n",
    "print 'Number of vis is', Ndata, np.shape(rho), np.shape(Sigmainv)"
   ]
  },
  {
   "cell_type": "code",
   "execution_count": null,
   "metadata": {
    "collapsed": true
   },
   "outputs": [],
   "source": [
    "##2 - Model Setup\n",
    "##We have a model visibility (M) which uses Nrings annuli\n",
    "\n",
    "#Select model annuli radii in arcsec\n",
    "rmin = 0.01/140.\n",
    "rmax = 1.1\n",
    "Nrings = 40\n",
    "radii = np.linspace(rmin, rmax, num=Nrings+1) #Currently does NOT use rin\n",
    "rleft = radii[:-1]\n",
    "rright = radii[1:]\n",
    "rcenter = (rleft+rright)/2.\n",
    "\n",
    "#M=Xw, where X is only a function of the bins and baselines\n",
    "X = np.empty([Ndata,Nrings])\n",
    "for j in range(Ndata):\n",
    "    for i in range(Nrings):\n",
    "        X[j][i] = 1./rho[j]*(rright[i]*sc.j1(rho[j]*2.*np.pi*rright[i]) - rleft[i]*sc.j1(rho[j]*2.*np.pi*rleft[i]))"
   ]
  },
  {
   "cell_type": "code",
   "execution_count": null,
   "metadata": {
    "collapsed": true
   },
   "outputs": [],
   "source": [
    "##3 - Compute linear algebra\n",
    "\n",
    "#Calculate uniform prior mean and covariance matrix\n",
    "#The mean of the distribution with a uniform prior is wu, with covariance Cu\n",
    "Cu = np.dot(np.dot(X.T, Sigmainv), X)\n",
    "#Alternate method without inverse\n",
    "wu = np.linalg.solve(Cu, np.dot(np.dot(X.T, Sigmainv), D)) #better than wu0"
   ]
  },
  {
   "cell_type": "code",
   "execution_count": null,
   "metadata": {
    "collapsed": true
   },
   "outputs": [],
   "source": [
    "#Calculate the mean to use for GP kernel (for now it's the truth)\n",
    "flux = 0.12\n",
    "sig = 0.6\n",
    "incl = 50.\n",
    "PA = 70.\n",
    "offx = -0.3\n",
    "offy = -0.2\n",
    "nominal_SB = (sig/rcenter)**0.7 * np.exp(-(rcenter/sig)**2.5)\t# fullA distribution\n",
    "int_SB = np.trapz(2.*np.pi*nominal_SB*rcenter, rcenter)\t\t# a check on the total flux\n",
    "nominal_SB *= flux / int_SB\n",
    "\n",
    "muw = nominal_SB #Truth"
   ]
  },
  {
   "cell_type": "code",
   "execution_count": null,
   "metadata": {
    "collapsed": false
   },
   "outputs": [],
   "source": [
    "#Plot visibilities to compare data, truth, and uniform output\n",
    "plt.plot(rho, D, '-k', label='Data')\n",
    "plt.plot(rho, np.dot(X, nominal_SB), '-m', label= 'Truth')\n",
    "plt.plot(rho, np.dot(X, wu), 'ob', label='Uniform prior')\n",
    "plt.title('Visibilities')\n",
    "plt.legend()"
   ]
  },
  {
   "cell_type": "code",
   "execution_count": null,
   "metadata": {
    "collapsed": false
   },
   "outputs": [],
   "source": [
    "#Plot SB to compare data, truth, and uniform output\n",
    "plt.subplot(211)\n",
    "plt.plot(rcenter, nominal_SB, '-k', label='Truth')\n",
    "plt.plot(rcenter, wu, 'ob', label='Uniform')\n",
    "plt.legend()\n",
    "plt.title ('Surface Brightness vs Angle')\n",
    "plt.subplot(212)\n",
    "plt.plot(rcenter, nominal_SB - wu)\n",
    "plt.title('Truth-model')\n",
    "print \"!!This tends to look better for smaller Ndata, suggesting there still may be an issue with wu calculation!!\""
   ]
  },
  {
   "cell_type": "code",
   "execution_count": null,
   "metadata": {
    "collapsed": true
   },
   "outputs": [],
   "source": [
    "#Calculate the GP covariance matrix (Cw) from the kernel (k), with mean muw\n",
    "#The mean of the distribution with this prior is wgp, with variance Cgp\n",
    "gpa = 1. #Hyperparameter amplitude\n",
    "gpl = .05 #Hyperparameter lengthscale\n",
    "Cw = calccovar(rcenter, gpa, gpl)\n",
    "Cwinv = np.linalg.inv(calccovar(rcenter, gpa, gpl))"
   ]
  },
  {
   "cell_type": "code",
   "execution_count": null,
   "metadata": {
    "collapsed": false
   },
   "outputs": [],
   "source": [
    "plt.imshow(np.dot(Cw, Cwinv))\n",
    "plt.colorbar()\n",
    "#If it doesn't look like the identity matrix, something is wrong! Check nugget term in kernel."
   ]
  },
  {
   "cell_type": "code",
   "execution_count": null,
   "metadata": {
    "collapsed": true
   },
   "outputs": [],
   "source": [
    "#Non-inverse method to getting wgp\n",
    "Cgpinv = np.linalg.solve(Cu, np.eye(Nrings) + np.dot(Cu, Cwinv))\n",
    "Cuinvwu = np.linalg.solve(Cu, wu)\n",
    "wgp = np.linalg.solve(Cgpinv, Cuinvwu + np.dot(Cwinv, muw))"
   ]
  },
  {
   "cell_type": "code",
   "execution_count": null,
   "metadata": {
    "collapsed": false
   },
   "outputs": [],
   "source": [
    "plt.plot(rcenter, np.dot(Cu, Cuinvwu), 'c') #Cu.inv(Cu).wu\n",
    "plt.plot(rcenter, wu, 'r') #wu\n",
    "plt.title('These should look equal')\n"
   ]
  },
  {
   "cell_type": "code",
   "execution_count": null,
   "metadata": {
    "collapsed": false
   },
   "outputs": [],
   "source": [
    "#Plot visibilities\n",
    "plt.plot(rho, D, '-k', label='Data')\n",
    "plt.plot(rho, np.dot(X, nominal_SB), '-m', label= 'Truth')\n",
    "plt.plot(rho, np.dot(X, wu), 'ob', label='Uniform prior')\n",
    "plt.plot(rho, np.dot(X, wgp), 'og', label='GP prior')\n",
    "plt.title('Visibilities')\n",
    "plt.legend()"
   ]
  },
  {
   "cell_type": "code",
   "execution_count": null,
   "metadata": {
    "collapsed": false
   },
   "outputs": [],
   "source": [
    "#Plot SB\n",
    "plt.subplot(211)\n",
    "plt.plot(rcenter, nominal_SB, '-k', label='Truth')\n",
    "plt.plot(rcenter, wu, 'ob', label='Uniform')\n",
    "plt.plot(rcenter, wgp, 'og', label='GP')\n",
    "plt.legend()\n",
    "plt.title ('Surface Brightness vs Angle')\n",
    "plt.subplot(212)\n",
    "plt.plot(rcenter, nominal_SB - wu,'-b')\n",
    "plt.plot(rcenter, nominal_SB - wgp, '-g')\n",
    "plt.title('Truth-model')"
   ]
  },
  {
   "cell_type": "markdown",
   "metadata": {},
   "source": [
    "#The Old Method That Uses Inverses"
   ]
  },
  {
   "cell_type": "code",
   "execution_count": null,
   "metadata": {
    "collapsed": false
   },
   "outputs": [],
   "source": [
    "#The regular inverse way of doing all of this:\n",
    "Cuinv0 = np.linalg.inv(Cu)\n",
    "wu0 = np.dot(Cuinv0, np.dot(np.dot(X.T, Sigmainv), D)) \n",
    "Cgp0 = np.linalg.inv(Cuinv0+Cwinv)\n",
    "wgp0 = np.dot(Cgp0,(np.dot(Cuinv0, wu0) + np.dot(Cwinv, muw)))"
   ]
  },
  {
   "cell_type": "code",
   "execution_count": null,
   "metadata": {
    "collapsed": false
   },
   "outputs": [],
   "source": [
    "#Checking Cuinv0\n",
    "plt.imshow(np.dot(Cu,Cuinv0))\n",
    "plt.colorbar()\n",
    "print 'Cuinv0 does not work well'"
   ]
  },
  {
   "cell_type": "code",
   "execution_count": null,
   "metadata": {
    "collapsed": false
   },
   "outputs": [],
   "source": [
    "#Compare wu and wu0\n",
    "print 'Truth', nominal_SB\n",
    "print 'With solve', wu\n",
    "print 'With inv', wu0\n",
    "plt.subplot(211)\n",
    "plt.plot(rcenter, wu-wu0)\n",
    "plt.title('Difference between w_u calc methods')\n",
    "plt.ylabel('wu-wu0')\n",
    "plt.subplot(212)\n",
    "plt.plot(rcenter, wu-nominal_SB, ':k', label='Truth')\n",
    "plt.ylabel('Comparison to truth')\n"
   ]
  },
  {
   "cell_type": "code",
   "execution_count": null,
   "metadata": {
    "collapsed": false
   },
   "outputs": [],
   "source": [
    "#Look at Cgp and Cgpinv\n",
    "plt.imshow(np.dot(Cgp0, (Cuinv0+Cwinv)))\n",
    "print 'This should look like the identity matrix, but it depends strongly on the hyperparameters.'"
   ]
  },
  {
   "cell_type": "code",
   "execution_count": null,
   "metadata": {
    "collapsed": false
   },
   "outputs": [],
   "source": [
    "np.linalg.cond(Cu)/1e16"
   ]
  },
  {
   "cell_type": "code",
   "execution_count": null,
   "metadata": {
    "collapsed": false
   },
   "outputs": [],
   "source": [
    "print np.amin(np.diag(Cu))\n",
    "Cueps = Cu + np.eye(Nrings)*10.\n",
    "np.linalg.cond(Cueps)/1e6\n",
    "Cuepsinv = np.linalg.inv(Cueps)\n",
    "plt.imshow(np.dot(Cueps, Cuepsinv))"
   ]
  },
  {
   "cell_type": "code",
   "execution_count": null,
   "metadata": {
    "collapsed": false
   },
   "outputs": [],
   "source": [
    "wueps = np.dot(Cuepsinv, np.dot(np.dot(X.T, Sigmainv), D)) \n",
    "Cgpeps = np.linalg.inv(Cuepsinv+Cwinv)\n",
    "wgpeps = np.dot(Cgpeps,(np.dot(Cuepsinv, wueps) + np.dot(Cwinv, muw)))"
   ]
  },
  {
   "cell_type": "code",
   "execution_count": null,
   "metadata": {
    "collapsed": false
   },
   "outputs": [],
   "source": [
    "plt.imshow(np .dot(Cgpeps,Cuepsinv+Cwinv))\n",
    "plt.colorbar()"
   ]
  },
  {
   "cell_type": "code",
   "execution_count": null,
   "metadata": {
    "collapsed": false
   },
   "outputs": [],
   "source": [
    "#Plot visibilities\n",
    "plt.plot(rho, D, '-k', label='Data')\n",
    "plt.plot(rho, np.dot(X, nominal_SB), '-m', label= 'Truth')\n",
    "plt.plot(rho, np.dot(X, wu), 'ob', label='Uniform prior')\n",
    "plt.plot(rho, np.dot(X, wueps), 'sc', label='Uniform prior')\n",
    "#plt.plot(rho, np.dot(X, wgp), 'or', label='GP prior')\n",
    "plt.plot(rho, np.dot(X, wgpeps), 'sg', label='GP prior')\n",
    "plt.title('Visibilities')\n",
    "plt.legend()"
   ]
  },
  {
   "cell_type": "code",
   "execution_count": null,
   "metadata": {
    "collapsed": false
   },
   "outputs": [],
   "source": [
    "plt.plot(rcenter, nominal_SB, '-k', label='Truth')\n",
    "#plt.plot(rcenter, wu, 'ob', label='Uniform')\n",
    "plt.plot(rcenter, wueps, 'sc', label='Uniform')\n",
    "#plt.plot(rcenter, wgp, 'or', label='GP')\n",
    "plt.plot(rcenter, wgpeps, 'sg', label='GP')\n",
    "plt.legend()"
   ]
  },
  {
   "cell_type": "code",
   "execution_count": null,
   "metadata": {
    "collapsed": false
   },
   "outputs": [],
   "source": [
    "rcenter[2]-rcenter[1]"
   ]
  },
  {
   "cell_type": "code",
   "execution_count": null,
   "metadata": {
    "collapsed": false
   },
   "outputs": [],
   "source": [
    "plt.plot(rcenter, (nominal_SB-wgpeps)/nominal_SB,'o')\n",
    "plt.ylabel(\"Fractional difference from truth\")"
   ]
  },
  {
   "cell_type": "code",
   "execution_count": null,
   "metadata": {
    "collapsed": false,
    "scrolled": true
   },
   "outputs": [],
   "source": [
    "plt.subplot(311)\n",
    "plt.title('Draws from Cw')\n",
    "for draw in np.random.multivariate_normal(muw, Cw, size=20):\n",
    "    plt.plot(rcenter, draw, color=\"0.5\")\n",
    "\n",
    "plt.plot(rcenter, nominal_SB-wueps, 'bo')\n",
    "\n",
    "plt.subplot(312)       \n",
    "plt.title('Draws from Cu')\n",
    "for draw in np.random.multivariate_normal(wueps, Cueps, size=20):\n",
    "    plt.plot(rcenter, draw, color=\"0.5\")\n",
    "\n",
    "#plt.plot(cb, result, color=\"b\", label=r\"$\\hat{w}$\")\n",
    "#plt.plot(cb, wtilde, color=\"r\", label=r\"${w}~w/GP$\")\n",
    "#plt.plot(cb, nominal_SB, color=\"k\", label=\"truth\")\n",
    "\n",
    "\n",
    "plt.subplot(313)\n",
    "plt.title('Draws from Cgp')\n",
    "this = np.random.multivariate_normal(wgpeps, Cgpeps, size=10000)\n",
    "\n",
    "for draw in np.random.multivariate_normal(wgpeps, Cgpeps, size=20):\n",
    "    plt.plot(rcenter, draw, color=\"0.5\")\n",
    "#plt.plot(cb, result, color=\"b\", label=r\"$\\hat{w}$\", marker = 'o', linestyle='-')\n",
    "plt.plot(rcenter, wgpeps, color=\"r\", label=r\"${w}~w/GP$\", marker = 'o', linestyle='-')\n",
    "#plt.plot(cb, nominal_SB, color=\"k\", label=\"truth\")\n",
    "\n",
    "\n",
    "# plt.legend(loc=\"upper right\")"
   ]
  },
  {
   "cell_type": "code",
   "execution_count": null,
   "metadata": {
    "collapsed": false
   },
   "outputs": [],
   "source": [
    "2"
   ]
  },
  {
   "cell_type": "code",
   "execution_count": null,
   "metadata": {
    "collapsed": true
   },
   "outputs": [],
   "source": []
  }
 ],
 "metadata": {
  "kernelspec": {
   "display_name": "Python 2",
   "language": "python",
   "name": "python2"
  },
  "language_info": {
   "codemirror_mode": {
    "name": "ipython",
    "version": 2
   },
   "file_extension": ".py",
   "mimetype": "text/x-python",
   "name": "python",
   "nbconvert_exporter": "python",
   "pygments_lexer": "ipython2",
   "version": "2.7.10"
  }
 },
 "nbformat": 4,
 "nbformat_minor": 0
}
