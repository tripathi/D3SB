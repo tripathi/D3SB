{
 "cells": [
  {
   "cell_type": "code",
   "execution_count": 1,
   "metadata": {
    "collapsed": false
   },
   "outputs": [],
   "source": [
    "%matplotlib inline\n",
    "import numpy as np\n",
    "import matplotlib.pyplot as plt\n",
    "from scipy import special, stats\n",
    "from scipy.optimize import minimize\n",
    "#import scipy.special as sc\n",
    "import pdb\n",
    "from deprojectVis import deproject_vis\n",
    "import time\n",
    "import d3sbfxns as f #Package together\n",
    "import emcee\n",
    "import triangle #called corner on newer distros\n",
    "from datetime import datetime\n",
    "#from __future__ import print_function"
   ]
  },
  {
   "cell_type": "code",
   "execution_count": 2,
   "metadata": {
    "collapsed": true
   },
   "outputs": [],
   "source": [
    "##Inputs\n",
    "#Visibility inputs\n",
    "rhomin = 0.1 #1/arcsec\n",
    "rhomax = 10. #1/arcsec\n",
    "Nvis = 100\n",
    "\n",
    "#Annuli limits in arcsec\n",
    "rmin = 0.01/140.\n",
    "rmax = 1.1\n",
    "global Nrings\n",
    "Nrings = 40\n",
    "\n",
    "#GP Hyperparameters\n",
    "gpa = .15 #Hyperparameter amplitude\n",
    "gpl = .1 #Hyperparameter lengthscale\n",
    "ggamma = 0.\n",
    "\n",
    "#Set GP mean in step 3b\n",
    "synthimg = 'DATA/fullA.image.fits' #File with image to be used for mean"
   ]
  },
  {
   "cell_type": "markdown",
   "metadata": {},
   "source": [
    "Our data set contains a collection of $N_{vis}$ data visibilities, each indexed by $D_j$. It is represented by a column vector of length $N_{vis}$ as\n",
    "\n",
    "$$\n",
    "\\vec{D} = \\begin{bmatrix}\n",
    "D_1\\\\\n",
    "\\vdots\\\\\n",
    "D_j\\\\\n",
    "\\vdots\\\\\n",
    "D_{N_{vis}}\n",
    "\\end{bmatrix}.\n",
    "$$\n",
    "While $\\vec{D}$ has complex elements, we will restrict our attention and modeling to the real part only.\n",
    "\n",
    "We assume that the data visibilities, $\\vec{D}$, are drawn from a multi-dimensional normal distribution, with a covariance matrix ${\\Sigma}$.  We assert that the noise on each visibility is Gaussian and independent from every other visibility. This means that $\\Sigma$ is a diagonal matrix of size ($N_{vis}$,$N_{vis}$), given by\n",
    "$$\n",
    "\\Sigma=\n",
    "  \\begin{pmatrix}\n",
    "  \\sigma_1^2 & &0\\\\\n",
    "  &\\ddots& \\\\\n",
    " 0 & & \\sigma_{N_{vis}}^2\n",
    "  \\end{pmatrix},\n",
    "  \\qquad\n",
    "  \\Sigma^{-1}=\n",
    "  \\begin{pmatrix}\n",
    "  \\frac{1}{\\sigma_1^2} & &0\\\\\n",
    "  &\\ddots& \\\\\n",
    " 0 & & \\frac{1}{\\sigma_{N_{vis}}^2}\n",
    "  \\end{pmatrix} .\n",
    "$$\n",
    "\n",
    "Our model computes a single complex visibility at a particular radial visibility $\\rho_j$ as the sum of $N_{ring}$ Bessel functions, each indexed by $i$. This also means that in real space, the model has $N_{rings}$ total bins, each indexed by $i$.\n",
    "\n",
    "$$\n",
    "M(\\rho_j) = M_j =  \\sum_{i=1}^{N_{rings}} {w_i \\over \\rho_j} \\left [{r_b}_i J_1(2\\pi {r_b}_i \\rho_j) - {r_a}_i J_1(2\\pi {r_a}_i \\rho_j) \\right ] = \\sum_i w_i x(\\rho_j ; r_{i}),\n",
    "$$\n",
    "\n",
    "or in matrix form:\n",
    "$$\n",
    "\\vec{M} = \\undertilde{X}\\vec{w},\n",
    "$$\n",
    "where $\\vec{M}$ is a length-$N_{vis}$ column vector, giving the model visibilities, $X$ is the ($N_{vis}$, $N_{rings}$) design matrix, and $\\vec{w}$ is our length-$N_{rings}$ column vector of parameters, which physically are the surface brightness intensity coefficients:\n",
    "\n",
    "$$\n",
    "\\vec{w}  = \\begin{bmatrix}\n",
    "w_{1} \\\\\n",
    "\\vdots \\\\\n",
    "w_i\\\\\n",
    "\\vdots \\\\\n",
    "w_{N_{rings}}\n",
    "\\end{bmatrix},\n",
    "\\qquad\n",
    "  \\undertilde{X}=\n",
    "  \\begin{pmatrix}\n",
    "  x (\\rho_{1} ;r_{1}) & ... & x(\\rho_{1}; r_{i}) & ... & x(\\rho_{1} ;r_{N_{rings}})\\\\\n",
    "  \\vdots & & & & \\vdots \\\\\n",
    "  x (\\rho_{j}; r_{1}) & &\\ddots& & x(\\rho_{j}; r_{N_{rings}}) \\\\\n",
    "  \\vdots & & & & \\vdots \\\\\n",
    "  x(\\rho_{N_{vis}} ;r_{1})  & ... & x(\\rho_{N_{vis}}; r_{i}) & ... &  x(\\rho_{N_{vis}} ;r_{N_{rings}})\n",
    "  \\end{pmatrix}.\n",
    "$$         "
   ]
  },
  {
   "cell_type": "code",
   "execution_count": 3,
   "metadata": {
    "collapsed": false
   },
   "outputs": [],
   "source": [
    "##Make fake visibility data (D) from a fake SB profile with intensity coefficients wtrue\n",
    "\n",
    "#Set radii for SB annuli and determine wtrue at those locations\n",
    "radii = np.linspace(rmin, rmax, num=Nrings+1) #arcsec (Currently does NOT use rin)\n",
    "rleft = radii[:-1]\n",
    "rright = radii[1:]\n",
    "rcenter = (rleft+rright)/2.\n",
    "#Fake SB at those radii\n",
    "flux = 0.12\n",
    "sig = 0.6\n",
    "wtrue = (sig/rcenter)**0.7 * np.exp(-(rcenter/sig)**2.5)# fullA distribution\n",
    "int_SB = np.trapz(2.*np.pi*wtrue*rcenter, rcenter) # a check on the total flux\n",
    "wtrue *= flux / int_SB\n",
    "\n",
    "global D, Sigma, X\n",
    "#Calculate the fake visibilities (D), corresponding baselines (rho), & weights (Sigmainv)\n",
    "rho = np.linspace(rhomin, rhomax, Nvis) #Visibility baselines (1/arcsec)\n",
    "#Calculate the design matrix X\n",
    "X = np.empty([Nvis,Nrings]) #Design matrix\n",
    "for j in range(Nvis):\n",
    "    for i in range(Nrings):\n",
    "        X[j][i] = 1./rho[j]*(rright[i]*special.j1(rho[j]*2.*np.pi*rright[i]) - rleft[i]*special.j1(rho[j]*2.*np.pi*rleft[i]))\n",
    "D = np.dot(X, wtrue)\n",
    "Sigma = np.diag(1.e-6*np.ones(Nvis))\n",
    "Sigmainv= np.diag(1.e6*np.ones(Nvis)) #Temporarily make up uncertainty.  Uniform values are a good approx. for ALMA data"
   ]
  },
  {
   "cell_type": "markdown",
   "metadata": {},
   "source": [
    "The likelihood function describing the probability of the data given our model parameters is given by\n",
    "$$\n",
    "P\\left(\\vec{D} \\mid \\vec{M} \\right) = N \\left( \\vec{D} \\mid {X} \\vec{w}, {\\Sigma}\\right),\n",
    "$$\n",
    "where\n",
    "$$\n",
    "N \\left( \\vec{D} \\mid  {X} \\vec{w} , {\\Sigma} \\right) = \\frac{1}{|2 \\pi {\\Sigma}|} \\exp \\left[{-\\frac{1}{2} (\\vec{D}-{X}\\vec{w})^T {\\Sigma}^{-1} (\\vec{D}-{X}\\vec{w})} \\right].\n",
    "$$\n",
    "\n",
    "With a uniform prior on the distribution of intensity coefficients ($P(\\vec{w}) = 1$)\n",
    "$$\n",
    "P\\left(\\vec{D}\\rvert\\vec{w}\\right) = P\\left(\\vec{w}\\rvert\\vec{D}\\right),\n",
    "$$\n",
    "the maximum-likelihood solution to this type of problem is given by another multivariate Gaussian with mean\n",
    "$$\n",
    "\\vec{w_u} = {C_u} \\left( {X}^T {\\Sigma}^{-1}\\vec{D} \\right),\n",
    "$$\n",
    "with a covariance matrix\n",
    "$$\n",
    "{C_u}^{-1} = {X}^T {\\Sigma}^{-1}{X}.\n",
    "$$"
   ]
  },
  {
   "cell_type": "code",
   "execution_count": 4,
   "metadata": {
    "collapsed": false
   },
   "outputs": [],
   "source": [
    "##3 - Compute linear algebra\n",
    "\n",
    "#3a. Calculate MLE mean (wu) and covariance matrix inverse (Cuinv)\n",
    "Cuinv = np.dot(np.dot(X.T, Sigmainv), X)\n",
    "Cuinvwu = np.dot(np.dot(X.T, Sigmainv), D) #Cuinv * wu\n",
    "\n",
    "#Uncomment the following for better numerical stability\n",
    "\n",
    "#Add epsu to the diagonal of the matrix to make it more numerically stable\n",
    "#print('Cuinv condition number ', np.linalg.cond(Cuinv))\n",
    "#epsu = 10**(int(np.log10(np.amin(np.diag(Cuinv))))-2) ##Can Set\n",
    "#Cuinv = Cuinvorig + epsu*np.eye(Nrings)\n",
    "#print('Min (Cu diag), Eps', np.amin(np.diag(Cuinv)), epsu)\n",
    "#print('Cu new condition number ', np.linalg.cond(Cuinv))"
   ]
  },
  {
   "cell_type": "markdown",
   "metadata": {},
   "source": [
    "We add a Gaussian prior on the intensity coefficients, $P(w)$, since we expect them to vary smoothly.  To do so, we assume a covariance matrix on the intensity coefficients, based on a squared exponential kernel, \n",
    "$$\n",
    "{C_w}_{a,b} = a^2 \\exp \\left (-\\frac{(r_a - r_b)^2}{2 l^2} \\right) + \\sigma_w^2 \\delta_{ab},\n",
    "$$\n",
    "where $a$, $l$ and $\\sigma_w$ are hyperparameters.  The last term can be included for numerical stability.  \n",
    "\n",
    "For our prior, we assume that the mean of the intensity coefficients is $\\mu$, which we can choose based on the SB image corresponding to our data.  Since this is essentially the truth convolved with a PSF, it looks smeared out - underpredicting intensities at small radii."
   ]
  },
  {
   "cell_type": "code",
   "execution_count": 5,
   "metadata": {
    "collapsed": true
   },
   "outputs": [],
   "source": [
    "##To allow for hyperparameter optimization, we calculate\n",
    "##the covariance matrix Cw in separate function definitions\n",
    "\n",
    "#Squared exponential kernel\n",
    "def exp2kernel(i1, i2, ibins=None, a=None, l=None, gamma=0):\n",
    "    ri = ibins[i1]\n",
    "    rj = ibins[i2]\n",
    "#    tol = 1e-6\n",
    "#    nugget = np.zeros_like(ri)\n",
    "#    nugget[(ri-rj)<tol] = 1e-16 #AD HOC!        \n",
    "    return a*a* ri**gamma * np.exp(-((ri - rj)**2.)/(2.*l*l))#+nugget"
   ]
  },
  {
   "cell_type": "code",
   "execution_count": 6,
   "metadata": {
    "collapsed": true
   },
   "outputs": [],
   "source": [
    "#Covariance matrix for intensities\n",
    "def calccovar(binsin, ain, lin, gammain):\n",
    "    '''\n",
    "    Calculate the covariance matrix using a squared exponential kernel\n",
    "    a: normalization amplitude\n",
    "    l: correlation length\n",
    "    '''\n",
    "    nbins = binsin.shape[0]\n",
    "    cov = np.fromfunction(exp2kernel,(nbins,nbins), ibins=binsin, a=ain, l=lin, gamma = gammain, dtype = np.int)\n",
    "    return cov"
   ]
  },
  {
   "cell_type": "code",
   "execution_count": 7,
   "metadata": {
    "collapsed": false
   },
   "outputs": [],
   "source": [
    "#3b. Calculate the GP covariance matrix (Cw), with the mean (muw)\n",
    "\n",
    "#Find image mean\n",
    "incl = 50. #deg\n",
    "PA = 70. #deg\n",
    "offx = -0.3 #arcsec\n",
    "offy = -0.2 #arcsec\n",
    "rsb, sb, beaminfo = f.sbdata(synthimg, PA, incl, offx, offy)\n",
    "sbbin, sigmabin = f.sbmeanbin(rleft[0], rright, rsb, sb)\n",
    "\n",
    "#Set the mean\n",
    "global muw\n",
    "muw = sbbin\n",
    "\n",
    "#Calculate the covariance matrix\n",
    "Cw = calccovar(rcenter, gpa, gpl, ggamma)\n",
    "Cwinv = np.linalg.inv(Cw)"
   ]
  },
  {
   "cell_type": "markdown",
   "metadata": {},
   "source": [
    "With this prior, our data are described as being drawn from a new multiavariate Gaussian distribution with the covariance matrix,\n",
    "$$\n",
    "{C_{GP}}^{-1} = {C_{u}}^{-1} + {C_{w}}^{-1},\n",
    "$$\n",
    "and mean,\n",
    "$$\n",
    "\\vec{w}_{GP} = {C_{GP}} \\left(  {C_{u}}^{-1} \\vec{w}_u +  {C_{w}}^{-1} \\vec{\\mu} \\right).\n",
    "$$"
   ]
  },
  {
   "cell_type": "code",
   "execution_count": 8,
   "metadata": {
    "collapsed": false
   },
   "outputs": [
    {
     "name": "stdout",
     "output_type": "stream",
     "text": [
      "('Cuinv condition number ', 5.138685111274512e+17)\n",
      "('Cgpinv condition number ', 674413212634995.0)\n"
     ]
    }
   ],
   "source": [
    "#3c. Calculate GP prior mean (wgp) and covariance matrix (Cgp)\n",
    "Cgpinv = Cuinv+Cwinv\n",
    "Cgp = np.linalg.inv(Cuinv+Cwinv)\n",
    "wgp = np.linalg.solve(Cgpinv, Cuinvwu + np.dot(Cwinv, muw))\n",
    "\n",
    "#Print condition number to determine numerical stability\n",
    "print('Cuinv condition number ', np.linalg.cond(Cuinv))\n",
    "print('Cgpinv condition number ', np.linalg.cond(Cgpinv))"
   ]
  },
  {
   "cell_type": "code",
   "execution_count": 9,
   "metadata": {
    "collapsed": false
   },
   "outputs": [
    {
     "data": {
      "text/plain": [
       "<matplotlib.legend.Legend at 0x10ff8cf10>"
      ]
     },
     "execution_count": 9,
     "metadata": {},
     "output_type": "execute_result"
    },
    {
     "data": {
      "image/png": "[encoded data removed]",
      "text/plain": [
       "<matplotlib.figure.Figure at 0x10ff68ed0>"
      ]
     },
     "metadata": {},
     "output_type": "display_data"
    }
   ],
   "source": [
    "#Plot the results\n",
    "plt.plot(rho, D, '-k', label='Data')\n",
    "plt.plot(rho, np.dot(X, wgp), 'or', label='GP prior (solve)')\n",
    "plt.ylabel('Visibility [Jy]')\n",
    "plt.xlabel('Rho [1/arcsec]') \n",
    "plt.title('Visibilities')\n",
    "plt.legend()"
   ]
  },
  {
   "cell_type": "code",
   "execution_count": 44,
   "metadata": {
    "collapsed": false
   },
   "outputs": [
    {
     "data": {
      "text/plain": [
       "<matplotlib.legend.Legend at 0x119d23950>"
      ]
     },
     "execution_count": 44,
     "metadata": {},
     "output_type": "execute_result"
    },
    {
     "data": {
      "image/png": "[encoded data removed]",
      "text/plain": [
       "<matplotlib.figure.Figure at 0x119a25450>"
      ]
     },
     "metadata": {},
     "output_type": "display_data"
    }
   ],
   "source": [
    "plt.plot(rcenter, wtrue, '-k', label='Truth')\n",
    "plt.plot(rcenter, muw, 'xb', label='Prior Mean')\n",
    "plt.plot(rcenter, wgp, 'or', label='GP')\n",
    "plt.ylabel('SB [Jy/arcsec^2]')\n",
    "plt.xlabel('Angle [arcsec]') \n",
    "plt.title('Surface Brightness')\n",
    "ax = plt.gca()\n",
    "ax.set_yscale('log')\n",
    "ax.set_xscale('log')\n",
    "plt.xlim(.9*rcenter[0], 1.1*rmax)\n",
    "plt.legend()"
   ]
  },
  {
   "cell_type": "code",
   "execution_count": 42,
   "metadata": {
    "collapsed": false
   },
   "outputs": [
    {
     "name": "stdout",
     "output_type": "stream",
     "text": [
      "0.000116756018849\n"
     ]
    }
   ],
   "source": []
  },
  {
   "cell_type": "code",
   "execution_count": 11,
   "metadata": {
    "collapsed": false
   },
   "outputs": [
    {
     "name": "stderr",
     "output_type": "stream",
     "text": [
      "/Users/anjalitripathi/Library/Enthought/Canopy_64bit/User/lib/python2.7/site-packages/ipykernel/__main__.py:1: RuntimeWarning: covariance is not positive-semidefinite.\n",
      "  if __name__ == '__main__':\n"
     ]
    },
    {
     "data": {
      "text/plain": [
       "<matplotlib.legend.Legend at 0x116dca550>"
      ]
     },
     "execution_count": 11,
     "metadata": {},
     "output_type": "execute_result"
    },
    {
     "data": {
      "image/png": "[encoded data removed]",
      "text/plain": [
       "<matplotlib.figure.Figure at 0x103ca9f50>"
      ]
     },
     "metadata": {},
     "output_type": "display_data"
    }
   ],
   "source": [
    "gpdraws = np.random.multivariate_normal(wgp, Cgp, size=1000) #Choice of Cgpinv inversion matters \n",
    "post = np.percentile(gpdraws, [16, 50, 84], axis=0)\n",
    "loerr = post[1]-post[0]\n",
    "hierr = post[2]-post[1]\n",
    "\n",
    "plt.title('Draws from wgp')\n",
    "plt.ylabel('SB [Jy/arcsec^2]')\n",
    "plt.xlabel('Angle [arcsec]')\n",
    "plt.plot(rcenter, wtrue, '-k', label='Truth')\n",
    "plt.plot(rcenter, gpdraws[0], '-y', label='Draws')\n",
    "for draw in gpdraws:\n",
    "        plt.plot(rcenter, draw, '-y', alpha = 0.1, zorder=1)\n",
    "        \n",
    "plt.plot(rcenter, muw, 'xb', label='Prior Mean')\n",
    "plt.plot(rcenter, wgp, 'or', label='GP')        \n",
    "plt.errorbar(rcenter, post[1], yerr = [loerr, hierr], fmt='or', elinewidth=2, alpha = 0.5, label='Posterior quantiles')\n",
    "ax = plt.gca()\n",
    "ax.set_yscale('log')\n",
    "ax.set_xscale('log')\n",
    "plt.xlim(.9*rcenter[0], 1.1*rmax)\n",
    "plt.legend(loc='best')"
   ]
  },
  {
   "cell_type": "markdown",
   "metadata": {},
   "source": [
    "To choose appropriate hyperparameters, we can optimize the evidence:\n",
    "$$\\log{\\mathcal{Z}(a, l)} = -{1\\over2} \\log \\det \\left(2 \\pi {K}(a,l) \\right) -{1\\over2} \\left(\\vec{D}-{X}\\vec{\\mu}\\right)^T{K}(a,l)^{-1}\\left(\\vec{D}-{X}\\vec{\\mu}\\right),\n",
    "$$\n",
    "where\n",
    "$$\n",
    "{K}(a,l) = {\\Sigma} + {X} {C_w}(a,l){X}^T.\n",
    "$$"
   ]
  },
  {
   "cell_type": "code",
   "execution_count": null,
   "metadata": {
    "collapsed": true
   },
   "outputs": [],
   "source": [
    "#Calculate the evidence as a function of GP amplitude and length\n",
    "def calcZ(theta, cb):    \n",
    "    #Nrings, D, sigma, muw and X are global vars.\n",
    "    \n",
    "    if (Nrings - cb.size) > 1e-6: print('Size mismatch \\n')\n",
    "    ggpa = 10.**theta[0]\n",
    "    ggpl = theta[1]\n",
    "    ggamma = 0.\n",
    "\n",
    "    if (ggpa < 0) or (ggpa > 10):\n",
    "        return -np.inf\n",
    "\n",
    "    if (ggpl < 0) or (ggpl > (cb[-1]-cb[0])):\n",
    "        return -np.inf\n",
    "    \n",
    "    Corig = calccovar(cb, ggpa, ggpl, ggamma)\n",
    "    C = Corig #+ np.amin(Corig)*np.eye(Nrings) #Add nugget term for stability, changes based on params.\n",
    "    K = Sigma + np.dot(np.dot(X,C),np.transpose(X))\n",
    "    (sign,logdet) = np.linalg.slogdet(2.*np.pi*K)\n",
    "    logZ = -.5*(logdet+np.dot(np.dot(np.transpose(D-np.dot(X, muw)),np.linalg.inv(K)),(D-np.dot(X, muw))))\n",
    "    if (sign<0): \n",
    "        print(\"Warning, negative determinant with (A,l,gamma)\", ggpa, ggpl, ggamma)\n",
    "        return -np.inf\n",
    "    return logZ"
   ]
  },
  {
   "cell_type": "markdown",
   "metadata": {},
   "source": [
    "Let's use emcee to explore $\\log(a)$ and $l$."
   ]
  },
  {
   "cell_type": "code",
   "execution_count": null,
   "metadata": {
    "collapsed": true
   },
   "outputs": [],
   "source": [
    "#Initialize walkers\n",
    "def initgpa(params, nwalkers):\n",
    "    #This is specific to GP amplitude, not generic parameters\n",
    "    tmp = np.zeros((nwalkers,2))\n",
    "    tmp[:,0] = np.random.uniform(-2,0,nwalkers)\n",
    "    tmp[:,1] = params[1]*(1+np.random.uniform(-0.5,0.5,nwalkers))\n",
    "    return tmp"
   ]
  },
  {
   "cell_type": "code",
   "execution_count": null,
   "metadata": {
    "collapsed": true
   },
   "outputs": [],
   "source": [
    "def runemcee(pin, cb, nsteps, nthreads, savename, meanw):\n",
    "    \"\"\"\n",
    "    Run emcee\n",
    "    :param pin: Parameters\n",
    "    :param nsteps: Number of MCMC steps to take\n",
    "    :param savename: Output file name prefix\n",
    "    :param meanw: Mean to use for covariance\n",
    "    \"\"\"\n",
    "    #Number of parameters and walkers, set by p0\n",
    "    ndim = 2#np.shape(pin)[1]\n",
    "    nwalkers = 100#ndim * 4\n",
    "    \n",
    "    #Initialize GP param walkers\n",
    "    p0 = initgpa(pin, nwalkers)\n",
    "    \n",
    "    #Setup sampler\n",
    "    sampler = emcee.EnsembleSampler(nwalkers, ndim, calcZ, threads=nthreads, args=[cb])\n",
    "\n",
    "    #Run emcee, and time it\n",
    "    tic = time.time()\n",
    "    sampler.run_mcmc(p0, nsteps)\n",
    "    toc = time.time()\n",
    "\n",
    "    #Display and record run information\n",
    "    print('Elapsed emcee run time:', ((toc-tic)/60.))\n",
    "    print('Acceptance:', sampler.acceptance_fraction)\n",
    "\n",
    "    #Save the results in a binary file\n",
    "    np.save('mc_'+savename,sampler.chain)\n",
    "\n",
    "    print('Done with this emcee run')\n",
    "\n",
    "    return sampler.chain"
   ]
  },
  {
   "cell_type": "code",
   "execution_count": null,
   "metadata": {
    "collapsed": false
   },
   "outputs": [],
   "source": [
    "#Run emcee\n",
    "nsteps = 2000\n",
    "nthreads = 2 #Increase to match the number of cores\n",
    "\n",
    "notes = raw_input('Notes? Only give a short phrase to append to filenames\\n')\n",
    "savename = notes+'_'+str(Nrings)\n",
    "chain1 = runemcee([gpa, gpl], rcenter, nsteps, nthreads, savename, muw)\n"
   ]
  },
  {
   "cell_type": "code",
   "execution_count": null,
   "metadata": {
    "collapsed": false,
    "scrolled": true
   },
   "outputs": [],
   "source": [
    "#Look at posteriors for hyperparameters\n",
    "samples = chain1.reshape((-1,2))\n",
    "fig = triangle.corner(samples, labels=['log(a)', 'l'],quantiles=[0.16, 0.5, 0.84],\n",
    "                       show_titles=True, title_kwargs={\"fontsize\": 12})"
   ]
  },
  {
   "cell_type": "code",
   "execution_count": null,
   "metadata": {
    "collapsed": true
   },
   "outputs": [],
   "source": [
    "post = np.percentile(samples, [16, 50, 84], axis=0)\n",
    "#These hyperparameter values can be reinput at the top of the notebook and steps 3b, 3c, and plotting rerun."
   ]
  },
  {
   "cell_type": "code",
   "execution_count": 33,
   "metadata": {
    "collapsed": false
   },
   "outputs": [],
   "source": [
    "#Let's try SVD\n",
    "U, s, V = np.linalg.svd(Cuinv, full_matrices=True)\n",
    "Ugp, sgp, Vgp = np.linalg.svd(Cgpinv, full_matrices=True)\n"
   ]
  },
  {
   "cell_type": "code",
   "execution_count": 13,
   "metadata": {
    "collapsed": false
   },
   "outputs": [],
   "source": [
    "S = np.diag(s)"
   ]
  },
  {
   "cell_type": "code",
   "execution_count": 14,
   "metadata": {
    "collapsed": false
   },
   "outputs": [
    {
     "data": {
      "text/plain": [
       "array([  8.95529301e+05,   2.38343715e+05,   1.39554398e+05,\n",
       "         9.71443149e+04,   7.45544862e+04,   5.99752415e+04,\n",
       "         5.00182072e+04,   4.25946995e+04,   3.69279919e+04,\n",
       "         3.23664077e+04,   2.86405218e+04,   2.54682116e+04,\n",
       "         2.27176157e+04,   2.02211541e+04,   1.78863877e+04,\n",
       "         1.55978971e+04,   1.33302122e+04,   1.10469452e+04,\n",
       "         8.79890595e+03,   6.66068194e+03,   5.11719694e+03,\n",
       "         3.57293371e+03,   1.34684195e+03,   2.67961344e+02,\n",
       "         5.38653209e+00,   6.44634507e-02,   5.10004437e-04,\n",
       "         2.75916949e-06,   1.03632568e-08,   2.03818329e-10,\n",
       "         7.90314224e-11,   7.23209770e-11,   7.23209770e-11,\n",
       "         7.23209770e-11,   7.23209770e-11,   7.23209770e-11,\n",
       "         7.23209770e-11,   7.23209770e-11,   7.23209770e-11,\n",
       "         7.23209770e-11])"
      ]
     },
     "execution_count": 14,
     "metadata": {},
     "output_type": "execute_result"
    }
   ],
   "source": [
    "s.shape\n",
    "s"
   ]
  },
  {
   "cell_type": "code",
   "execution_count": 29,
   "metadata": {
    "collapsed": false
   },
   "outputs": [
    {
     "name": "stdout",
     "output_type": "stream",
     "text": [
      "[  1.11665805e-06   4.19562143e-06   7.16566452e-06   1.02939632e-05\n",
      "   1.34130091e-05   1.66735469e-05   1.99927198e-05   2.34770995e-05\n",
      "   2.70797286e-05   3.08962307e-05   3.49155650e-05   3.92646337e-05\n",
      "   4.40187040e-05   4.94531615e-05   5.59084383e-05   6.41112062e-05\n",
      "   7.50175607e-05   9.05227628e-05   1.13650493e-04   1.50134777e-04\n",
      "   1.95419487e-04   2.79882047e-04   7.42477617e-04   3.73188157e-03\n",
      "   1.85648202e-01   1.55126663e+01   1.96076726e+03   3.62427899e+05\n",
      "   9.64947622e+07   4.90633010e+09   1.26531950e+10   1.38272468e+10\n",
      "   1.38272468e+10   1.38272468e+10   1.38272468e+10   1.38272468e+10\n",
      "   1.38272468e+10   1.38272468e+10   1.38272468e+10   1.38272468e+10]\n",
      "[  1.11665805e-06   4.19562143e-06   7.16566452e-06   1.02939632e-05\n",
      "   1.34130091e-05   1.66735469e-05   1.99927198e-05   2.34770995e-05\n",
      "   2.70797286e-05   3.08962307e-05   3.49155650e-05   3.92646337e-05\n",
      "   4.40187040e-05   4.94531615e-05   5.59084383e-05   6.41112062e-05\n",
      "   7.50175607e-05   9.05227628e-05   1.13650493e-04   1.50134777e-04\n",
      "   1.95419487e-04   2.79882047e-04   7.42477617e-04   3.73188157e-03\n",
      "   1.85648202e-01   1.55126663e+01   1.96076726e+03   3.62427899e+05\n",
      "   0.00000000e+00   0.00000000e+00   0.00000000e+00   0.00000000e+00\n",
      "   0.00000000e+00   0.00000000e+00   0.00000000e+00   0.00000000e+00\n",
      "   0.00000000e+00   0.00000000e+00   0.00000000e+00   0.00000000e+00]\n"
     ]
    }
   ],
   "source": [
    "s2 = 1./s\n",
    "print s2\n",
    "s2[s2>1e7]=0.\n",
    "print s2"
   ]
  },
  {
   "cell_type": "code",
   "execution_count": 36,
   "metadata": {
    "collapsed": false
   },
   "outputs": [
    {
     "name": "stdout",
     "output_type": "stream",
     "text": [
      "[ 0.609375   -0.03125    -0.640625    0.18554688 -0.203125    0.0859375\n",
      "  0.09375     0.3515625   0.546875   -0.203125   -0.1171875   0.51171875\n",
      "  0.04882812  0.00585938  0.3671875   0.1484375   0.1640625   0.1796875\n",
      "  0.0234375  -0.171875   -0.25       -0.203125    0.2265625   0.25\n",
      " -0.296875   -0.53125     0.21875    -0.140625    0.265625    0.05859375\n",
      "  0.1015625   0.1328125   0.0859375   0.4375      0.19335938 -0.3046875\n",
      " -0.14282227 -0.35546875 -0.421875   -0.15625   ]\n",
      "[-0.16295575  0.05194275  0.26879538  0.17312778  0.12833361  0.02352377\n",
      " -0.06217811 -0.04940085  0.03545843  0.12659097 -0.2696746   0.30901326\n",
      "  0.19343628 -0.10471976  0.1204968  -0.24411252  0.17892125 -0.08328569\n",
      " -0.1259115  -0.24924942 -0.30346638 -0.15152369  0.20132932 -0.08719211\n",
      "  0.06855474 -0.19492227 -0.23116871 -0.11821419  0.13030864  0.15696851\n",
      "  0.24205332  0.13736538 -0.16138204 -0.63794773  0.09913042  0.00233145\n",
      "  0.01353622  0.00756213  0.00376549  0.00094384]\n",
      "[  9.41836188e+17   5.87406247e+17   4.37863750e+17   2.31119962e+17\n",
      "   1.68273234e+17   2.82746986e+16   3.38434022e+15   4.29978235e+14\n",
      "   6.05719997e+13   9.36165956e+12   1.57635997e+12   2.86084979e+11\n",
      "   5.52875876e+10   1.14478198e+10   2.59186236e+09   6.16288121e+08\n",
      "   1.50080341e+08   4.05353704e+07   1.09102206e+07   3.15925251e+06\n",
      "   9.49471954e+05   8.92528223e+05   3.30504699e+05   2.37397226e+05\n",
      "   1.40295405e+05   1.28512198e+05   9.70159324e+04   7.40900122e+04\n",
      "   6.14700186e+04   5.87451508e+04   4.95351866e+04   4.28088680e+04\n",
      "   3.68079402e+04   3.29237400e+04   3.18390915e+04   2.35313508e+04\n",
      "   1.77372456e+04   1.32042440e+04   7.07284399e+03   1.39652689e+03]\n"
     ]
    }
   ],
   "source": [
    "Sbar = np.linalg.inv(S)\n",
    "Sbargp = np.linalg.inv(np.diag(sgp))\n",
    "xhat = np.dot(np.dot(np.dot(V, Sbar),U.T),Cuinvwu)\n",
    "print xhat\n",
    "xhatgp = np.dot(np.dot(np.dot(Vgp, Sbargp),Ugp.T), Cuinvwu + np.dot(Cwinv, muw))\n",
    "print xhatgp\n",
    "print sgp"
   ]
  },
  {
   "cell_type": "code",
   "execution_count": 30,
   "metadata": {
    "collapsed": false
   },
   "outputs": [
    {
     "data": {
      "text/plain": [
       "array([ 0.15494275,  0.11694977, -0.11791301, -0.14353547, -0.0849241 ,\n",
       "        0.26971483, -0.16498315, -0.09181938,  0.23630548, -0.17322353,\n",
       "       -0.07141483,  0.33636915,  0.31599396,  0.1819188 ,  0.31735232,\n",
       "        0.15304729,  0.14235011,  0.19103467,  0.03009629, -0.13333791,\n",
       "       -0.26326969, -0.14873405,  0.22343655,  0.0098049 , -0.11703687,\n",
       "       -0.19287121, -0.16038835, -0.0242033 ,  0.10803133,  0.08402126,\n",
       "       -0.06625947, -0.04001319,  0.17122754,  0.17539468,  0.29466277,\n",
       "       -0.05924487, -0.16078848, -0.26442114, -0.24332541, -0.40545052])"
      ]
     },
     "execution_count": 30,
     "metadata": {},
     "output_type": "execute_result"
    }
   ],
   "source": [
    "Sbar2 = np.diag(s2)\n",
    "xhat2 = np.dot(np.dot(np.dot(V, Sbar2),U.T),Cuinvwu)\n",
    "xhat2"
   ]
  },
  {
   "cell_type": "code",
   "execution_count": 22,
   "metadata": {
    "collapsed": false
   },
   "outputs": [
    {
     "data": {
      "text/plain": [
       "array([  6.97150135e+00,  -4.34042328e+00,   3.58322571e+00,\n",
       "        -1.27926292e+00,   3.97989191e-01,   1.12313087e+00,\n",
       "        -1.52692330e+00,   2.19089908e+00,  -1.64598835e+00,\n",
       "         1.19355741e+00,  -2.08223231e-01,   8.34602285e-02,\n",
       "        -5.63648380e-02,   5.59457020e-01,  -4.60311585e-01,\n",
       "         2.33412092e-01,   4.18450729e-01,  -6.06828691e-01,\n",
       "         6.08084635e-01,  -2.14488393e-01,   9.33889871e-02,\n",
       "        -1.10048329e-01,   4.18917844e-01,  -5.50283172e-01,\n",
       "         5.49681035e-01,  -3.01854753e-01,   1.23885381e-01,\n",
       "        -3.70369999e-02,   1.50708943e-01,  -2.85465220e-01,\n",
       "         3.99259870e-01,  -3.86557221e-01,   3.12703578e-01,\n",
       "        -1.94847986e-01,   1.06402537e-01,  -4.23615565e-02,\n",
       "         1.63856180e-02,  -2.65309266e-03,   1.49130167e-03,\n",
       "         5.74972391e-04])"
      ]
     },
     "execution_count": 22,
     "metadata": {},
     "output_type": "execute_result"
    }
   ],
   "source": [
    "wu = np.linalg.solve(Cuinv, Cuinvwu)\n",
    "wu"
   ]
  },
  {
   "cell_type": "code",
   "execution_count": 31,
   "metadata": {
    "collapsed": false
   },
   "outputs": [
    {
     "data": {
      "text/plain": [
       "<matplotlib.legend.Legend at 0x118a18410>"
      ]
     },
     "execution_count": 31,
     "metadata": {},
     "output_type": "execute_result"
    },
    {
     "data": {
      "image/png": "[encoded data removed]",
      "text/plain": [
       "<matplotlib.figure.Figure at 0x118904590>"
      ]
     },
     "metadata": {},
     "output_type": "display_data"
    }
   ],
   "source": [
    "plt.title('SB')\n",
    "plt.plot(rcenter, wtrue, 'k', label='Truth')\n",
    "#plt.plot(rcenter, wu, 'ob', label='Solve')\n",
    "plt.plot(rcenter, xhat, 'or', label='SVD')\n",
    "plt.plot(rcenter, xhat2, 'og', label='SVD Cutoff')\n",
    "plt.legend(loc='best')"
   ]
  },
  {
   "cell_type": "code",
   "execution_count": 32,
   "metadata": {
    "collapsed": false
   },
   "outputs": [
    {
     "data": {
      "text/plain": [
       "<matplotlib.legend.Legend at 0x118a7c050>"
      ]
     },
     "execution_count": 32,
     "metadata": {},
     "output_type": "execute_result"
    },
    {
     "data": {
      "image/png": "[encoded data removed]",
      "text/plain": [
       "<matplotlib.figure.Figure at 0x1188d8750>"
      ]
     },
     "metadata": {},
     "output_type": "display_data"
    }
   ],
   "source": [
    "plt.title('Vis')\n",
    "plt.plot(rho, np.dot(X,wtrue), 'k', label='Truth')\n",
    "plt.plot(rho, np.dot(X,wu), 'ob', label='Solve')\n",
    "plt.plot(rho, np.dot(X,xhat), 'or', label='SVD')\n",
    "plt.plot(rho, np.dot(X,xhat2), 'og', label='SVD Cutoff')\n",
    "plt.legend(loc='best')"
   ]
  },
  {
   "cell_type": "raw",
   "metadata": {},
   "source": []
  }
 ],
 "metadata": {
  "kernelspec": {
   "display_name": "Python 2",
   "language": "python",
   "name": "python2"
  },
  "language_info": {
   "codemirror_mode": {
    "name": "ipython",
    "version": 2
   },
   "file_extension": ".py",
   "mimetype": "text/x-python",
   "name": "python",
   "nbconvert_exporter": "python",
   "pygments_lexer": "ipython2",
   "version": "2.7.6"
  }
 },
 "nbformat": 4,
 "nbformat_minor": 0
}
