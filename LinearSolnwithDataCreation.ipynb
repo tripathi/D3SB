{
 "cells": [
  {
   "cell_type": "code",
   "execution_count": 1,
   "metadata": {
    "collapsed": false
   },
   "outputs": [],
   "source": [
    "%matplotlib inline\n",
    "import numpy as np\n",
    "import matplotlib.pyplot as plt\n",
    "from scipy import special, stats\n",
    "from scipy.optimize import minimize\n",
    "#import scipy.special as sc\n",
    "import pdb\n",
    "from deprojectVis import deproject_vis\n",
    "import time\n",
    "import d3sbfxns as f #Package together\n",
    "import emcee\n",
    "import triangle #called corner on newer distros\n",
    "from datetime import datetime\n",
    "from __future__ import print_function"
   ]
  },
  {
   "cell_type": "code",
   "execution_count": 25,
   "metadata": {
    "collapsed": true
   },
   "outputs": [],
   "source": [
    "##Inputs\n",
    "#Visibility inputs\n",
    "rhomin = 0.1 #1/arcsec\n",
    "rhomax = 10. #1/arcsec\n",
    "Nvis = 100\n",
    "\n",
    "#Annuli limits in arcsec\n",
    "rmin = 0.01/140.\n",
    "rmax = 1.1\n",
    "global Nrings\n",
    "Nrings = 40\n",
    "\n",
    "#GP Hyperparameters\n",
    "gpa = .15 #Hyperparameter amplitude\n",
    "gpl = .1 #Hyperparameter lengthscale\n",
    "ggamma = 0.\n",
    "\n",
    "#Set GP mean in step 3b\n",
    "synthimg = 'DATA/fullA.image.fits' #File with image to be used for mean"
   ]
  },
  {
   "cell_type": "markdown",
   "metadata": {},
   "source": [
    "Our data set contains a collection of $N_{vis}$ data visibilities, each indexed by $D_j$. It is represented by a column vector of length $N_{vis}$ as\n",
    "\n",
    "$$\n",
    "\\vec{D} = \\begin{bmatrix}\n",
    "D_1\\\\\n",
    "\\vdots\\\\\n",
    "D_j\\\\\n",
    "\\vdots\\\\\n",
    "D_{N_{vis}}\n",
    "\\end{bmatrix}.\n",
    "$$\n",
    "While $\\vec{D}$ has complex elements, we will restrict our attention and modeling to the real part only.\n",
    "\n",
    "We assume that the data visibilities, $\\vec{D}$, are drawn from a multi-dimensional normal distribution, with a covariance matrix ${\\Sigma}$.  We assert that the noise on each visibility is Gaussian and independent from every other visibility. This means that $\\Sigma$ is a diagonal matrix of size ($N_{vis}$,$N_{vis}$), given by\n",
    "$$\n",
    "\\Sigma=\n",
    "  \\begin{pmatrix}\n",
    "  \\sigma_1^2 & &0\\\\\n",
    "  &\\ddots& \\\\\n",
    " 0 & & \\sigma_{N_{vis}}^2\n",
    "  \\end{pmatrix},\n",
    "  \\qquad\n",
    "  \\Sigma^{-1}=\n",
    "  \\begin{pmatrix}\n",
    "  \\frac{1}{\\sigma_1^2} & &0\\\\\n",
    "  &\\ddots& \\\\\n",
    " 0 & & \\frac{1}{\\sigma_{N_{vis}}^2}\n",
    "  \\end{pmatrix} .\n",
    "$$\n",
    "\n",
    "Our model computes a single complex visibility at a particular radial visibility $\\rho_j$ as the sum of $N_{ring}$ Bessel functions, each indexed by $i$. This also means that in real space, the model has $N_{rings}$ total bins, each indexed by $i$.\n",
    "\n",
    "$$\n",
    "M(\\rho_j) = M_j =  \\sum_{i=1}^{N_{rings}} {w_i \\over \\rho_j} \\left [{r_b}_i J_1(2\\pi {r_b}_i \\rho_j) - {r_a}_i J_1(2\\pi {r_a}_i \\rho_j) \\right ] = \\sum_i w_i x(\\rho_j ; r_{i}),\n",
    "$$\n",
    "\n",
    "or in matrix form:\n",
    "$$\n",
    "\\vec{M} = \\undertilde{X}\\vec{w},\n",
    "$$\n",
    "where $\\vec{M}$ is a length-$N_{vis}$ column vector, giving the model visibilities, $X$ is the ($N_{vis}$, $N_{rings}$) design matrix, and $\\vec{w}$ is our length-$N_{rings}$ column vector of parameters, which physically are the surface brightness intensity coefficients:\n",
    "\n",
    "$$\n",
    "\\vec{w}  = \\begin{bmatrix}\n",
    "w_{1} \\\\\n",
    "\\vdots \\\\\n",
    "w_i\\\\\n",
    "\\vdots \\\\\n",
    "w_{N_{rings}}\n",
    "\\end{bmatrix},\n",
    "\\qquad\n",
    "  \\undertilde{X}=\n",
    "  \\begin{pmatrix}\n",
    "  x (\\rho_{1} ;r_{1}) & ... & x(\\rho_{1}; r_{i}) & ... & x(\\rho_{1} ;r_{N_{rings}})\\\\\n",
    "  \\vdots & & & & \\vdots \\\\\n",
    "  x (\\rho_{j}; r_{1}) & &\\ddots& & x(\\rho_{j}; r_{N_{rings}}) \\\\\n",
    "  \\vdots & & & & \\vdots \\\\\n",
    "  x(\\rho_{N_{vis}} ;r_{1})  & ... & x(\\rho_{N_{vis}}; r_{i}) & ... &  x(\\rho_{N_{vis}} ;r_{N_{rings}})\n",
    "  \\end{pmatrix}.\n",
    "$$         "
   ]
  },
  {
   "cell_type": "code",
   "execution_count": 3,
   "metadata": {
    "collapsed": false
   },
   "outputs": [],
   "source": [
    "##Make fake visibility data (D) from a fake SB profile with intensity coefficients wtrue\n",
    "\n",
    "#Set radii for SB annuli and determine wtrue at those locations\n",
    "radii = np.linspace(rmin, rmax, num=Nrings+1) #arcsec (Currently does NOT use rin)\n",
    "rleft = radii[:-1]\n",
    "rright = radii[1:]\n",
    "rcenter = (rleft+rright)/2.\n",
    "#Fake SB at those radii\n",
    "flux = 0.12\n",
    "sig = 0.6\n",
    "wtrue = (sig/rcenter)**0.7 * np.exp(-(rcenter/sig)**2.5)# fullA distribution\n",
    "int_SB = np.trapz(2.*np.pi*wtrue*rcenter, rcenter) # a check on the total flux\n",
    "wtrue *= flux / int_SB\n",
    "\n",
    "global D, Sigma, X\n",
    "#Calculate the fake visibilities (D), corresponding baselines (rho), & weights (Sigmainv)\n",
    "rho = np.linspace(rhomin, rhomax, Nvis) #Visibility baselines (1/arcsec)\n",
    "#Calculate the design matrix X\n",
    "X = np.empty([Nvis,Nrings]) #Design matrix\n",
    "for j in range(Nvis):\n",
    "    for i in range(Nrings):\n",
    "        X[j][i] = 1./rho[j]*(rright[i]*special.j1(rho[j]*2.*np.pi*rright[i]) - rleft[i]*special.j1(rho[j]*2.*np.pi*rleft[i]))\n",
    "D = np.dot(X, wtrue)\n",
    "Sigma = np.diag(1.e-6*np.ones(Nvis))\n",
    "Sigmainv= np.diag(1.e6*np.ones(Nvis)) #Temporarily make up uncertainty.  Uniform values are a good approx. for ALMA data"
   ]
  },
  {
   "cell_type": "markdown",
   "metadata": {},
   "source": [
    "The likelihood function describing the probability of the data given our model parameters is given by\n",
    "$$\n",
    "P\\left(\\vec{D} \\mid \\vec{M} \\right) = N \\left( \\vec{D} \\mid {X} \\vec{w}, {\\Sigma}\\right),\n",
    "$$\n",
    "where\n",
    "$$\n",
    "N \\left( \\vec{D} \\mid  {X} \\vec{w} , {\\Sigma} \\right) = \\frac{1}{|2 \\pi {\\Sigma}|} \\exp \\left[{-\\frac{1}{2} (\\vec{D}-{X}\\vec{w})^T {\\Sigma}^{-1} (\\vec{D}-{X}\\vec{w})} \\right].\n",
    "$$\n",
    "\n",
    "With a uniform prior on the distribution of intensity coefficients ($P(\\vec{w}) = 1$)\n",
    "$$\n",
    "P\\left(\\vec{D}\\rvert\\vec{w}\\right) = P\\left(\\vec{w}\\rvert\\vec{D}\\right),\n",
    "$$\n",
    "the maximum-likelihood solution to this type of problem is given by another multivariate Gaussian with mean\n",
    "$$\n",
    "\\vec{w_u} = {C_u} \\left( {X}^T {\\Sigma}^{-1}\\vec{D} \\right),\n",
    "$$\n",
    "with a covariance matrix\n",
    "$$\n",
    "{C_u}^{-1} = {X}^T {\\Sigma}^{-1}{X}.\n",
    "$$"
   ]
  },
  {
   "cell_type": "code",
   "execution_count": 4,
   "metadata": {
    "collapsed": false
   },
   "outputs": [],
   "source": [
    "##3 - Compute linear algebra\n",
    "\n",
    "#3a. Calculate MLE mean (wu) and covariance matrix inverse (Cuinv)\n",
    "Cuinv = np.dot(np.dot(X.T, Sigmainv), X)\n",
    "Cuinvwu = np.dot(np.dot(X.T, Sigmainv), D) #Cuinv * wu\n",
    "\n",
    "#Uncomment the following for better numerical stability\n",
    "\n",
    "#Add epsu to the diagonal of the matrix to make it more numerically stable\n",
    "#print('Cuinv condition number ', np.linalg.cond(Cuinv))\n",
    "#epsu = 10**(int(np.log10(np.amin(np.diag(Cuinv))))-2) ##Can Set\n",
    "#Cuinv = Cuinvorig + epsu*np.eye(Nrings)\n",
    "#print('Min (Cu diag), Eps', np.amin(np.diag(Cuinv)), epsu)\n",
    "#print('Cu new condition number ', np.linalg.cond(Cuinv))"
   ]
  },
  {
   "cell_type": "markdown",
   "metadata": {},
   "source": [
    "We add a Gaussian prior on the intensity coefficients, $P(w)$, since we expect them to vary smoothly.  To do so, we assume a covariance matrix on the intensity coefficients, based on a squared exponential kernel, \n",
    "$$\n",
    "{C_w}_{a,b} = a^2 \\exp \\left (-\\frac{(r_a - r_b)^2}{2 l^2} \\right) + \\sigma_w^2 \\delta_{ab},\n",
    "$$\n",
    "where $a$, $l$ and $\\sigma_w$ are hyperparameters.  The last term can be included for numerical stability.  \n",
    "\n",
    "For our prior, we assume that the mean of the intensity coefficients is $\\mu$, which we can choose based on the SB image corresponding to our data.  Since this is essentially the truth convolved with a PSF, it looks smeared out - underpredicting intensities at small radii."
   ]
  },
  {
   "cell_type": "code",
   "execution_count": 8,
   "metadata": {
    "collapsed": true
   },
   "outputs": [],
   "source": [
    "##To allow for hyperparameter optimization, we calculate\n",
    "##the covariance matrix Cw in separate function definitions\n",
    "\n",
    "#Squared exponential kernel\n",
    "def exp2kernel(i1, i2, ibins=None, a=None, l=None, gamma=0):\n",
    "    ri = ibins[i1]\n",
    "    rj = ibins[i2]\n",
    "#    tol = 1e-6\n",
    "#    nugget = np.zeros_like(ri)\n",
    "#    nugget[(ri-rj)<tol] = 1e-16 #AD HOC!        \n",
    "    return a*a* ri**gamma * np.exp(-((ri - rj)**2.)/(2.*l*l))#+nugget"
   ]
  },
  {
   "cell_type": "code",
   "execution_count": 9,
   "metadata": {
    "collapsed": true
   },
   "outputs": [],
   "source": [
    "#Covariance matrix for intensities\n",
    "def calccovar(binsin, ain, lin, gammain):\n",
    "    '''\n",
    "    Calculate the covariance matrix using a squared exponential kernel\n",
    "    a: normalization amplitude\n",
    "    l: correlation length\n",
    "    '''\n",
    "    nbins = binsin.shape[0]\n",
    "    cov = np.fromfunction(exp2kernel,(nbins,nbins), ibins=binsin, a=ain, l=lin, gamma = gammain, dtype = np.int)\n",
    "    return cov"
   ]
  },
  {
   "cell_type": "code",
   "execution_count": 26,
   "metadata": {
    "collapsed": false
   },
   "outputs": [],
   "source": [
    "#3b. Calculate the GP covariance matrix (Cw), with the mean (muw)\n",
    "\n",
    "#Find image mean\n",
    "incl = 50. #deg\n",
    "PA = 70. #deg\n",
    "offx = -0.3 #arcsec\n",
    "offy = -0.2 #arcsec\n",
    "rsb, sb, beaminfo = f.sbdata(synthimg, PA, incl, offx, offy)\n",
    "sbbin, sigmabin = f.sbmeanbin(rleft[0], rright, rsb, sb)\n",
    "\n",
    "#Set the mean\n",
    "global muw\n",
    "muw = sbbin\n",
    "\n",
    "#Calculate the covariance matrix\n",
    "Cw = calccovar(rcenter, gpa, gpl, ggamma)\n",
    "Cwinv = np.linalg.inv(Cw)"
   ]
  },
  {
   "cell_type": "markdown",
   "metadata": {},
   "source": [
    "With this prior, our data are described as being drawn from a new multiavariate Gaussian distribution with the covariance matrix,\n",
    "$$\n",
    "{C_{GP}}^{-1} = {C_{u}}^{-1} + {C_{w}}^{-1},\n",
    "$$\n",
    "and mean,\n",
    "$$\n",
    "\\vec{w}_{GP} = {C_{GP}} \\left(  {C_{u}}^{-1} \\vec{w}_u +  {C_{w}}^{-1} \\vec{\\mu} \\right).\n",
    "$$"
   ]
  },
  {
   "cell_type": "code",
   "execution_count": 32,
   "metadata": {
    "collapsed": false
   },
   "outputs": [
    {
     "name": "stdout",
     "output_type": "stream",
     "text": [
      "Cuinv condition number  5.13868511127e+17\n",
      "Cgpinv condition number  6.74413212635e+14\n"
     ]
    }
   ],
   "source": [
    "#3c. Calculate GP prior mean (wgp) and covariance matrix (Cgp)\n",
    "Cgpinv = Cuinv+Cwinv\n",
    "Cgp = np.linalg.inv(Cuinv+Cwinv)\n",
    "wgp = np.linalg.solve(Cgpinv, Cuinvwu + np.dot(Cwinv, muw))\n",
    "\n",
    "#Print condition number to determine numerical stability\n",
    "print('Cuinv condition number ', np.linalg.cond(Cuinv))\n",
    "print('Cgpinv condition number ', np.linalg.cond(Cgpinv))"
   ]
  },
  {
   "cell_type": "code",
   "execution_count": 28,
   "metadata": {
    "collapsed": false
   },
   "outputs": [
    {
     "data": {
      "text/plain": [
       "<matplotlib.legend.Legend at 0x112e6b490>"
      ]
     },
     "execution_count": 28,
     "metadata": {},
     "output_type": "execute_result"
    },
    {
     "data": {
      "image/png": "[encoded data removed]",
      "text/plain": [
       "<matplotlib.figure.Figure at 0x1039de2d0>"
      ]
     },
     "metadata": {},
     "output_type": "display_data"
    }
   ],
   "source": [
    "#Plot the results\n",
    "plt.plot(rho, D, '-k', label='Data')\n",
    "plt.plot(rho, np.dot(X, wgp), 'or', label='GP prior (solve)')\n",
    "plt.ylabel('Visibility [Jy]')\n",
    "plt.xlabel('Rho [1/arcsec]') \n",
    "plt.title('Visibilities')\n",
    "plt.legend()"
   ]
  },
  {
   "cell_type": "code",
   "execution_count": 29,
   "metadata": {
    "collapsed": false
   },
   "outputs": [
    {
     "data": {
      "text/plain": [
       "<matplotlib.legend.Legend at 0x1130808d0>"
      ]
     },
     "execution_count": 29,
     "metadata": {},
     "output_type": "execute_result"
    },
    {
     "data": {
      "image/png": "[encoded data removed]",
      "text/plain": [
       "<matplotlib.figure.Figure at 0x1039eb710>"
      ]
     },
     "metadata": {},
     "output_type": "display_data"
    }
   ],
   "source": [
    "plt.plot(rcenter, wtrue, '-k', label='Truth')\n",
    "plt.plot(rcenter, muw, 'xb', label='Prior Mean')\n",
    "plt.plot(rcenter, wgp, 'or', label='GP')\n",
    "plt.ylabel('SB [Jy/arcsec^2]')\n",
    "plt.xlabel('Angle [arcsec]') \n",
    "plt.title('Surface Brightness')\n",
    "plt.legend()"
   ]
  },
  {
   "cell_type": "code",
   "execution_count": 34,
   "metadata": {
    "collapsed": false
   },
   "outputs": [
    {
     "name": "stderr",
     "output_type": "stream",
     "text": [
      "/Users/anjalitripathi/Library/Enthought/Canopy_64bit/User/lib/python2.7/site-packages/ipykernel/__main__.py:1: RuntimeWarning: covariance is not positive-semidefinite.\n",
      "  if __name__ == '__main__':\n"
     ]
    },
    {
     "data": {
      "text/plain": [
       "<matplotlib.legend.Legend at 0x1201b1ed0>"
      ]
     },
     "execution_count": 34,
     "metadata": {},
     "output_type": "execute_result"
    },
    {
     "data": {
      "image/png": "[encoded data removed]",
      "text/plain": [
       "<matplotlib.figure.Figure at 0x112e8e490>"
      ]
     },
     "metadata": {},
     "output_type": "display_data"
    }
   ],
   "source": [
    "gpdraws = np.random.multivariate_normal(wgp, Cgp, size=1000) #Choice of Cgpinv inversion matters \n",
    "post = np.percentile(gpdraws, [16, 50, 84], axis=0)\n",
    "loerr = post[1]-post[0]\n",
    "hierr = post[2]-post[1]\n",
    "\n",
    "plt.title('Draws from wgp')\n",
    "plt.ylabel('SB [Jy/arcsec^2]')\n",
    "plt.xlabel('Angle [arcsec]')\n",
    "plt.plot(rcenter, wtrue, '-k', label='Truth')\n",
    "plt.plot(rcenter, gpdraws[0], '-y', label='Draws')\n",
    "for draw in gpdraws:\n",
    "        plt.plot(rcenter, draw, '-y', alpha = 0.1, zorder=1)\n",
    "        \n",
    "plt.plot(rcenter, muw, 'xb', label='Prior Mean')\n",
    "plt.plot(rcenter, wgp, 'or', label='GP')        \n",
    "plt.errorbar(rcenter, post[1], yerr = [loerr, hierr], fmt='or', elinewidth=2, alpha = 0.5, label='Posterior quantiles')\n",
    "ax = plt.gca()\n",
    "ax.set_yscale('log')\n",
    "ax.set_xscale('log')\n",
    "plt.xlim(.9*rcenter[0], 1.1*rmax)\n",
    "plt.legend(loc='best')"
   ]
  },
  {
   "cell_type": "markdown",
   "metadata": {},
   "source": [
    "To choose appropriate hyperparameters, we can optimize the evidence:\n",
    "$$\\log{\\mathcal{Z}(a, l)} = -{1\\over2} \\log \\det \\left(2 \\pi {K}(a,l) \\right) -{1\\over2} \\left(\\vec{D}-{X}\\vec{\\mu}\\right)^T{K}(a,l)^{-1}\\left(\\vec{D}-{X}\\vec{\\mu}\\right),\n",
    "$$\n",
    "where\n",
    "$$\n",
    "{K}(a,l) = {\\Sigma} + {X} {C_w}(a,l){X}^T.\n",
    "$$"
   ]
  },
  {
   "cell_type": "code",
   "execution_count": 15,
   "metadata": {
    "collapsed": true
   },
   "outputs": [],
   "source": [
    "#Calculate the evidence as a function of GP amplitude and length\n",
    "def calcZ(theta, cb):    \n",
    "    #Nrings, D, sigma, muw and X are global vars.\n",
    "    \n",
    "    if (Nrings - cb.size) > 1e-6: print('Size mismatch \\n')\n",
    "    ggpa = 10.**theta[0]\n",
    "    ggpl = theta[1]\n",
    "    ggamma = 0.\n",
    "\n",
    "    if (ggpa < 0) or (ggpa > 10):\n",
    "        return -np.inf\n",
    "\n",
    "    if (ggpl < 0) or (ggpl > (cb[-1]-cb[0])):\n",
    "        return -np.inf\n",
    "    \n",
    "    Corig = calccovar(cb, ggpa, ggpl, ggamma)\n",
    "    C = Corig #+ np.amin(Corig)*np.eye(Nrings) #Add nugget term for stability, changes based on params.\n",
    "    K = Sigma + np.dot(np.dot(X,C),np.transpose(X))\n",
    "    (sign,logdet) = np.linalg.slogdet(2.*np.pi*K)\n",
    "    logZ = -.5*(logdet+np.dot(np.dot(np.transpose(D-np.dot(X, muw)),np.linalg.inv(K)),(D-np.dot(X, muw))))\n",
    "    if (sign<0): \n",
    "        print(\"Warning, negative determinant with (A,l,gamma)\", ggpa, ggpl, ggamma)\n",
    "        return -np.inf\n",
    "    return logZ"
   ]
  },
  {
   "cell_type": "markdown",
   "metadata": {},
   "source": [
    "Let's use emcee to explore $\\log(a)$ and $l$."
   ]
  },
  {
   "cell_type": "code",
   "execution_count": 16,
   "metadata": {
    "collapsed": true
   },
   "outputs": [],
   "source": [
    "#Initialize walkers\n",
    "def initgpa(params, nwalkers):\n",
    "    #This is specific to GP amplitude, not generic parameters\n",
    "    tmp = np.zeros((nwalkers,2))\n",
    "    tmp[:,0] = np.random.uniform(-2,0,nwalkers)\n",
    "    tmp[:,1] = params[1]*(1+np.random.uniform(-0.5,0.5,nwalkers))\n",
    "    return tmp"
   ]
  },
  {
   "cell_type": "code",
   "execution_count": 17,
   "metadata": {
    "collapsed": true
   },
   "outputs": [],
   "source": [
    "def runemcee(pin, cb, nsteps, nthreads, savename, meanw):\n",
    "    \"\"\"\n",
    "    Run emcee\n",
    "    :param pin: Parameters\n",
    "    :param nsteps: Number of MCMC steps to take\n",
    "    :param savename: Output file name prefix\n",
    "    :param meanw: Mean to use for covariance\n",
    "    \"\"\"\n",
    "    #Number of parameters and walkers, set by p0\n",
    "    ndim = 2#np.shape(pin)[1]\n",
    "    nwalkers = 100#ndim * 4\n",
    "    \n",
    "    #Initialize GP param walkers\n",
    "    p0 = initgpa(pin, nwalkers)\n",
    "    \n",
    "    #Setup sampler\n",
    "    sampler = emcee.EnsembleSampler(nwalkers, ndim, calcZ, threads=nthreads, args=[cb])\n",
    "\n",
    "    #Run emcee, and time it\n",
    "    tic = time.time()\n",
    "    sampler.run_mcmc(p0, nsteps)\n",
    "    toc = time.time()\n",
    "\n",
    "    #Display and record run information\n",
    "    print('Elapsed emcee run time:', ((toc-tic)/60.))\n",
    "    print('Acceptance:', sampler.acceptance_fraction)\n",
    "\n",
    "    #Save the results in a binary file\n",
    "    np.save('mc_'+savename,sampler.chain)\n",
    "\n",
    "    print('Done with this emcee run')\n",
    "\n",
    "    return sampler.chain"
   ]
  },
  {
   "cell_type": "code",
   "execution_count": 18,
   "metadata": {
    "collapsed": false
   },
   "outputs": [
    {
     "name": "stdout",
     "output_type": "stream",
     "text": [
      "Notes? Only give a short phrase to append to filenames\n",
      "testinggamma\n",
      "Elapsed emcee run time: 2.49632354975\n",
      "Acceptance: [ 0.5835  0.53    0.536   0.574   0.5025  0.567   0.5505  0.5805  0.479\n",
      "  0.5845  0.559   0.5065  0.501   0.58    0.5535  0.594   0.5415  0.5735\n",
      "  0.571   0.5735  0.584   0.5745  0.434   0.5205  0.4035  0.61    0.5745\n",
      "  0.4925  0.4675  0.5375  0.564   0.616   0.4525  0.568   0.5085  0.651\n",
      "  0.5405  0.538   0.4035  0.574   0.5435  0.632   0.617   0.442   0.5165\n",
      "  0.5315  0.62    0.602   0.4765  0.5225  0.4985  0.5115  0.5345  0.5115\n",
      "  0.5145  0.607   0.548   0.556   0.5695  0.5295  0.611   0.6005  0.571\n",
      "  0.5935  0.559   0.576   0.5555  0.5175  0.5095  0.5855  0.5615  0.5515\n",
      "  0.568   0.5255  0.5985  0.574   0.6435  0.5125  0.566   0.5985  0.5365\n",
      "  0.5295  0.5725  0.497   0.614   0.5675  0.5415  0.5915  0.6315  0.586\n",
      "  0.6055  0.454   0.5445  0.5535  0.5685  0.539   0.5455  0.5255  0.4525\n",
      "  0.568 ]\n",
      "Done with this emcee run\n"
     ]
    }
   ],
   "source": [
    "#Run emcee\n",
    "nsteps = 2000\n",
    "nthreads = 2 #Increase to match the number of cores\n",
    "\n",
    "notes = raw_input('Notes? Only give a short phrase to append to filenames\\n')\n",
    "savename = notes+'_'+str(Nrings)\n",
    "chain1 = runemcee([gpa, gpl], rcenter, nsteps, nthreads, savename, muw)\n"
   ]
  },
  {
   "cell_type": "code",
   "execution_count": 20,
   "metadata": {
    "collapsed": false,
    "scrolled": true
   },
   "outputs": [
    {
     "name": "stdout",
     "output_type": "stream",
     "text": [
      "Quantiles:\n",
      "[(0.16, -1.2317098294168785), (0.5, -0.8276298114378644), (0.84, -0.33791118995150377)]\n",
      "Quantiles:\n",
      "[(0.16, 0.0092340457801861897), (0.5, 0.10268331001746298), (0.84, 0.15801060233999539)]\n"
     ]
    },
    {
     "ename": "ValueError",
     "evalue": "Contour levels must be increasing",
     "output_type": "error",
     "traceback": [
      "\u001b[0;31m---------------------------------------------------------------------------\u001b[0m",
      "\u001b[0;31mValueError\u001b[0m                                Traceback (most recent call last)",
      "\u001b[0;32m<ipython-input-20-736a40a0190b>\u001b[0m in \u001b[0;36m<module>\u001b[0;34m()\u001b[0m\n\u001b[1;32m      2\u001b[0m \u001b[0msamples\u001b[0m \u001b[0;34m=\u001b[0m \u001b[0mchain1\u001b[0m\u001b[0;34m.\u001b[0m\u001b[0mreshape\u001b[0m\u001b[0;34m(\u001b[0m\u001b[0;34m(\u001b[0m\u001b[0;34m-\u001b[0m\u001b[0;36m1\u001b[0m\u001b[0;34m,\u001b[0m\u001b[0;36m2\u001b[0m\u001b[0;34m)\u001b[0m\u001b[0;34m)\u001b[0m\u001b[0;34m\u001b[0m\u001b[0m\n\u001b[1;32m      3\u001b[0m fig = triangle.corner(samples, labels=['log(a)', 'l'],quantiles=[0.16, 0.5, 0.84],\n\u001b[0;32m----> 4\u001b[0;31m                        show_titles=True, title_kwargs={\"fontsize\": 12})\n\u001b[0m",
      "\u001b[0;32m/Users/anjalitripathi/Library/Enthought/Canopy_64bit/User/lib/python2.7/site-packages/triangle.pyc\u001b[0m in \u001b[0;36mcorner\u001b[0;34m(xs, weights, labels, extents, truths, truth_color, scale_hist, quantiles, verbose, plot_contours, plot_datapoints, fig, **kwargs)\u001b[0m\n\u001b[1;32m    197\u001b[0m                    \u001b[0mplot_contours\u001b[0m\u001b[0;34m=\u001b[0m\u001b[0mplot_contours\u001b[0m\u001b[0;34m,\u001b[0m\u001b[0;34m\u001b[0m\u001b[0m\n\u001b[1;32m    198\u001b[0m                    \u001b[0mplot_datapoints\u001b[0m\u001b[0;34m=\u001b[0m\u001b[0mplot_datapoints\u001b[0m\u001b[0;34m,\u001b[0m\u001b[0;34m\u001b[0m\u001b[0m\n\u001b[0;32m--> 199\u001b[0;31m                    weights=weights, **kwargs)\n\u001b[0m\u001b[1;32m    200\u001b[0m \u001b[0;34m\u001b[0m\u001b[0m\n\u001b[1;32m    201\u001b[0m             \u001b[0;32mif\u001b[0m \u001b[0mtruths\u001b[0m \u001b[0;32mis\u001b[0m \u001b[0;32mnot\u001b[0m \u001b[0mNone\u001b[0m\u001b[0;34m:\u001b[0m\u001b[0;34m\u001b[0m\u001b[0m\n",
      "\u001b[0;32m/Users/anjalitripathi/Library/Enthought/Canopy_64bit/User/lib/python2.7/site-packages/triangle.pyc\u001b[0m in \u001b[0;36mhist2d\u001b[0;34m(x, y, *args, **kwargs)\u001b[0m\n\u001b[1;32m    327\u001b[0m     \u001b[0;32mif\u001b[0m \u001b[0mplot_contours\u001b[0m\u001b[0;34m:\u001b[0m\u001b[0;34m\u001b[0m\u001b[0m\n\u001b[1;32m    328\u001b[0m         \u001b[0max\u001b[0m\u001b[0;34m.\u001b[0m\u001b[0mpcolor\u001b[0m\u001b[0;34m(\u001b[0m\u001b[0mX\u001b[0m\u001b[0;34m,\u001b[0m \u001b[0mY\u001b[0m\u001b[0;34m,\u001b[0m \u001b[0mH\u001b[0m\u001b[0;34m.\u001b[0m\u001b[0mmax\u001b[0m\u001b[0;34m(\u001b[0m\u001b[0;34m)\u001b[0m \u001b[0;34m-\u001b[0m \u001b[0mH\u001b[0m\u001b[0;34m.\u001b[0m\u001b[0mT\u001b[0m\u001b[0;34m,\u001b[0m \u001b[0mcmap\u001b[0m\u001b[0;34m=\u001b[0m\u001b[0mcmap\u001b[0m\u001b[0;34m)\u001b[0m\u001b[0;34m\u001b[0m\u001b[0m\n\u001b[0;32m--> 329\u001b[0;31m         \u001b[0max\u001b[0m\u001b[0;34m.\u001b[0m\u001b[0mcontour\u001b[0m\u001b[0;34m(\u001b[0m\u001b[0mX1\u001b[0m\u001b[0;34m,\u001b[0m \u001b[0mY1\u001b[0m\u001b[0;34m,\u001b[0m \u001b[0mH\u001b[0m\u001b[0;34m.\u001b[0m\u001b[0mT\u001b[0m\u001b[0;34m,\u001b[0m \u001b[0mV\u001b[0m\u001b[0;34m,\u001b[0m \u001b[0mcolors\u001b[0m\u001b[0;34m=\u001b[0m\u001b[0mcolor\u001b[0m\u001b[0;34m,\u001b[0m \u001b[0mlinewidths\u001b[0m\u001b[0;34m=\u001b[0m\u001b[0mlinewidths\u001b[0m\u001b[0;34m)\u001b[0m\u001b[0;34m\u001b[0m\u001b[0m\n\u001b[0m\u001b[1;32m    330\u001b[0m \u001b[0;34m\u001b[0m\u001b[0m\n\u001b[1;32m    331\u001b[0m     \u001b[0mdata\u001b[0m \u001b[0;34m=\u001b[0m \u001b[0mnp\u001b[0m\u001b[0;34m.\u001b[0m\u001b[0mvstack\u001b[0m\u001b[0;34m(\u001b[0m\u001b[0;34m[\u001b[0m\u001b[0mx\u001b[0m\u001b[0;34m,\u001b[0m \u001b[0my\u001b[0m\u001b[0;34m]\u001b[0m\u001b[0;34m)\u001b[0m\u001b[0;34m\u001b[0m\u001b[0m\n",
      "\u001b[0;32m/Users/anjalitripathi/Library/Enthought/Canopy_64bit/User/lib/python2.7/site-packages/matplotlib/__init__.pyc\u001b[0m in \u001b[0;36minner\u001b[0;34m(ax, *args, **kwargs)\u001b[0m\n\u001b[1;32m   1810\u001b[0m                     warnings.warn(msg % (label_namer, func.__name__),\n\u001b[1;32m   1811\u001b[0m                                   RuntimeWarning, stacklevel=2)\n\u001b[0;32m-> 1812\u001b[0;31m             \u001b[0;32mreturn\u001b[0m \u001b[0mfunc\u001b[0m\u001b[0;34m(\u001b[0m\u001b[0max\u001b[0m\u001b[0;34m,\u001b[0m \u001b[0;34m*\u001b[0m\u001b[0margs\u001b[0m\u001b[0;34m,\u001b[0m \u001b[0;34m**\u001b[0m\u001b[0mkwargs\u001b[0m\u001b[0;34m)\u001b[0m\u001b[0;34m\u001b[0m\u001b[0m\n\u001b[0m\u001b[1;32m   1813\u001b[0m         \u001b[0mpre_doc\u001b[0m \u001b[0;34m=\u001b[0m \u001b[0minner\u001b[0m\u001b[0;34m.\u001b[0m\u001b[0m__doc__\u001b[0m\u001b[0;34m\u001b[0m\u001b[0m\n\u001b[1;32m   1814\u001b[0m         \u001b[0;32mif\u001b[0m \u001b[0mpre_doc\u001b[0m \u001b[0;32mis\u001b[0m \u001b[0mNone\u001b[0m\u001b[0;34m:\u001b[0m\u001b[0;34m\u001b[0m\u001b[0m\n",
      "\u001b[0;32m/Users/anjalitripathi/Library/Enthought/Canopy_64bit/User/lib/python2.7/site-packages/matplotlib/axes/_axes.pyc\u001b[0m in \u001b[0;36mcontour\u001b[0;34m(self, *args, **kwargs)\u001b[0m\n\u001b[1;32m   5642\u001b[0m             \u001b[0mself\u001b[0m\u001b[0;34m.\u001b[0m\u001b[0mcla\u001b[0m\u001b[0;34m(\u001b[0m\u001b[0;34m)\u001b[0m\u001b[0;34m\u001b[0m\u001b[0m\n\u001b[1;32m   5643\u001b[0m         \u001b[0mkwargs\u001b[0m\u001b[0;34m[\u001b[0m\u001b[0;34m'filled'\u001b[0m\u001b[0;34m]\u001b[0m \u001b[0;34m=\u001b[0m \u001b[0mFalse\u001b[0m\u001b[0;34m\u001b[0m\u001b[0m\n\u001b[0;32m-> 5644\u001b[0;31m         \u001b[0;32mreturn\u001b[0m \u001b[0mmcontour\u001b[0m\u001b[0;34m.\u001b[0m\u001b[0mQuadContourSet\u001b[0m\u001b[0;34m(\u001b[0m\u001b[0mself\u001b[0m\u001b[0;34m,\u001b[0m \u001b[0;34m*\u001b[0m\u001b[0margs\u001b[0m\u001b[0;34m,\u001b[0m \u001b[0;34m**\u001b[0m\u001b[0mkwargs\u001b[0m\u001b[0;34m)\u001b[0m\u001b[0;34m\u001b[0m\u001b[0m\n\u001b[0m\u001b[1;32m   5645\u001b[0m     \u001b[0mcontour\u001b[0m\u001b[0;34m.\u001b[0m\u001b[0m__doc__\u001b[0m \u001b[0;34m=\u001b[0m \u001b[0mmcontour\u001b[0m\u001b[0;34m.\u001b[0m\u001b[0mQuadContourSet\u001b[0m\u001b[0;34m.\u001b[0m\u001b[0mcontour_doc\u001b[0m\u001b[0;34m\u001b[0m\u001b[0m\n\u001b[1;32m   5646\u001b[0m \u001b[0;34m\u001b[0m\u001b[0m\n",
      "\u001b[0;32m/Users/anjalitripathi/Library/Enthought/Canopy_64bit/User/lib/python2.7/site-packages/matplotlib/contour.pyc\u001b[0m in \u001b[0;36m__init__\u001b[0;34m(self, ax, *args, **kwargs)\u001b[0m\n\u001b[1;32m   1422\u001b[0m         \u001b[0mare\u001b[0m \u001b[0mdescribed\u001b[0m \u001b[0;32min\u001b[0m \u001b[0mQuadContourSet\u001b[0m\u001b[0;34m.\u001b[0m\u001b[0mcontour_doc\u001b[0m\u001b[0;34m.\u001b[0m\u001b[0;34m\u001b[0m\u001b[0m\n\u001b[1;32m   1423\u001b[0m         \"\"\"\n\u001b[0;32m-> 1424\u001b[0;31m         \u001b[0mContourSet\u001b[0m\u001b[0;34m.\u001b[0m\u001b[0m__init__\u001b[0m\u001b[0;34m(\u001b[0m\u001b[0mself\u001b[0m\u001b[0;34m,\u001b[0m \u001b[0max\u001b[0m\u001b[0;34m,\u001b[0m \u001b[0;34m*\u001b[0m\u001b[0margs\u001b[0m\u001b[0;34m,\u001b[0m \u001b[0;34m**\u001b[0m\u001b[0mkwargs\u001b[0m\u001b[0;34m)\u001b[0m\u001b[0;34m\u001b[0m\u001b[0m\n\u001b[0m\u001b[1;32m   1425\u001b[0m \u001b[0;34m\u001b[0m\u001b[0m\n\u001b[1;32m   1426\u001b[0m     \u001b[0;32mdef\u001b[0m \u001b[0m_process_args\u001b[0m\u001b[0;34m(\u001b[0m\u001b[0mself\u001b[0m\u001b[0;34m,\u001b[0m \u001b[0;34m*\u001b[0m\u001b[0margs\u001b[0m\u001b[0;34m,\u001b[0m \u001b[0;34m**\u001b[0m\u001b[0mkwargs\u001b[0m\u001b[0;34m)\u001b[0m\u001b[0;34m:\u001b[0m\u001b[0;34m\u001b[0m\u001b[0m\n",
      "\u001b[0;32m/Users/anjalitripathi/Library/Enthought/Canopy_64bit/User/lib/python2.7/site-packages/matplotlib/contour.pyc\u001b[0m in \u001b[0;36m__init__\u001b[0;34m(self, ax, *args, **kwargs)\u001b[0m\n\u001b[1;32m    861\u001b[0m         \u001b[0mself\u001b[0m\u001b[0;34m.\u001b[0m\u001b[0m_transform\u001b[0m \u001b[0;34m=\u001b[0m \u001b[0mkwargs\u001b[0m\u001b[0;34m.\u001b[0m\u001b[0mget\u001b[0m\u001b[0;34m(\u001b[0m\u001b[0;34m'transform'\u001b[0m\u001b[0;34m,\u001b[0m \u001b[0mNone\u001b[0m\u001b[0;34m)\u001b[0m\u001b[0;34m\u001b[0m\u001b[0m\n\u001b[1;32m    862\u001b[0m \u001b[0;34m\u001b[0m\u001b[0m\n\u001b[0;32m--> 863\u001b[0;31m         \u001b[0mself\u001b[0m\u001b[0;34m.\u001b[0m\u001b[0m_process_args\u001b[0m\u001b[0;34m(\u001b[0m\u001b[0;34m*\u001b[0m\u001b[0margs\u001b[0m\u001b[0;34m,\u001b[0m \u001b[0;34m**\u001b[0m\u001b[0mkwargs\u001b[0m\u001b[0;34m)\u001b[0m\u001b[0;34m\u001b[0m\u001b[0m\n\u001b[0m\u001b[1;32m    864\u001b[0m         \u001b[0mself\u001b[0m\u001b[0;34m.\u001b[0m\u001b[0m_process_levels\u001b[0m\u001b[0;34m(\u001b[0m\u001b[0;34m)\u001b[0m\u001b[0;34m\u001b[0m\u001b[0m\n\u001b[1;32m    865\u001b[0m \u001b[0;34m\u001b[0m\u001b[0m\n",
      "\u001b[0;32m/Users/anjalitripathi/Library/Enthought/Canopy_64bit/User/lib/python2.7/site-packages/matplotlib/contour.pyc\u001b[0m in \u001b[0;36m_process_args\u001b[0;34m(self, *args, **kwargs)\u001b[0m\n\u001b[1;32m   1443\u001b[0m                 \u001b[0mself\u001b[0m\u001b[0;34m.\u001b[0m\u001b[0m_corner_mask\u001b[0m \u001b[0;34m=\u001b[0m \u001b[0mmpl\u001b[0m\u001b[0;34m.\u001b[0m\u001b[0mrcParams\u001b[0m\u001b[0;34m[\u001b[0m\u001b[0;34m'contour.corner_mask'\u001b[0m\u001b[0;34m]\u001b[0m\u001b[0;34m\u001b[0m\u001b[0m\n\u001b[1;32m   1444\u001b[0m \u001b[0;34m\u001b[0m\u001b[0m\n\u001b[0;32m-> 1445\u001b[0;31m             \u001b[0mx\u001b[0m\u001b[0;34m,\u001b[0m \u001b[0my\u001b[0m\u001b[0;34m,\u001b[0m \u001b[0mz\u001b[0m \u001b[0;34m=\u001b[0m \u001b[0mself\u001b[0m\u001b[0;34m.\u001b[0m\u001b[0m_contour_args\u001b[0m\u001b[0;34m(\u001b[0m\u001b[0margs\u001b[0m\u001b[0;34m,\u001b[0m \u001b[0mkwargs\u001b[0m\u001b[0;34m)\u001b[0m\u001b[0;34m\u001b[0m\u001b[0m\n\u001b[0m\u001b[1;32m   1446\u001b[0m \u001b[0;34m\u001b[0m\u001b[0m\n\u001b[1;32m   1447\u001b[0m             \u001b[0m_mask\u001b[0m \u001b[0;34m=\u001b[0m \u001b[0mma\u001b[0m\u001b[0;34m.\u001b[0m\u001b[0mgetmask\u001b[0m\u001b[0;34m(\u001b[0m\u001b[0mz\u001b[0m\u001b[0;34m)\u001b[0m\u001b[0;34m\u001b[0m\u001b[0m\n",
      "\u001b[0;32m/Users/anjalitripathi/Library/Enthought/Canopy_64bit/User/lib/python2.7/site-packages/matplotlib/contour.pyc\u001b[0m in \u001b[0;36m_contour_args\u001b[0;34m(self, args, kwargs)\u001b[0m\n\u001b[1;32m   1538\u001b[0m             \u001b[0mwarnings\u001b[0m\u001b[0;34m.\u001b[0m\u001b[0mwarn\u001b[0m\u001b[0;34m(\u001b[0m\u001b[0;34m'Log scale: values of z <= 0 have been masked'\u001b[0m\u001b[0;34m)\u001b[0m\u001b[0;34m\u001b[0m\u001b[0m\n\u001b[1;32m   1539\u001b[0m             \u001b[0mself\u001b[0m\u001b[0;34m.\u001b[0m\u001b[0mzmin\u001b[0m \u001b[0;34m=\u001b[0m \u001b[0mz\u001b[0m\u001b[0;34m.\u001b[0m\u001b[0mmin\u001b[0m\u001b[0;34m(\u001b[0m\u001b[0;34m)\u001b[0m\u001b[0;34m\u001b[0m\u001b[0m\n\u001b[0;32m-> 1540\u001b[0;31m         \u001b[0mself\u001b[0m\u001b[0;34m.\u001b[0m\u001b[0m_contour_level_args\u001b[0m\u001b[0;34m(\u001b[0m\u001b[0mz\u001b[0m\u001b[0;34m,\u001b[0m \u001b[0margs\u001b[0m\u001b[0;34m)\u001b[0m\u001b[0;34m\u001b[0m\u001b[0m\n\u001b[0m\u001b[1;32m   1541\u001b[0m         \u001b[0;32mreturn\u001b[0m \u001b[0;34m(\u001b[0m\u001b[0mx\u001b[0m\u001b[0;34m,\u001b[0m \u001b[0my\u001b[0m\u001b[0;34m,\u001b[0m \u001b[0mz\u001b[0m\u001b[0;34m)\u001b[0m\u001b[0;34m\u001b[0m\u001b[0m\n\u001b[1;32m   1542\u001b[0m \u001b[0;34m\u001b[0m\u001b[0m\n",
      "\u001b[0;32m/Users/anjalitripathi/Library/Enthought/Canopy_64bit/User/lib/python2.7/site-packages/matplotlib/contour.pyc\u001b[0m in \u001b[0;36m_contour_level_args\u001b[0;34m(self, z, args)\u001b[0m\n\u001b[1;32m   1187\u001b[0m                 \u001b[0mwarnings\u001b[0m\u001b[0;34m.\u001b[0m\u001b[0mwarn\u001b[0m\u001b[0;34m(\u001b[0m\u001b[0;34m\"Contour levels are not increasing\"\u001b[0m\u001b[0;34m)\u001b[0m\u001b[0;34m\u001b[0m\u001b[0m\n\u001b[1;32m   1188\u001b[0m             \u001b[0;32melse\u001b[0m\u001b[0;34m:\u001b[0m\u001b[0;34m\u001b[0m\u001b[0m\n\u001b[0;32m-> 1189\u001b[0;31m                 \u001b[0;32mraise\u001b[0m \u001b[0mValueError\u001b[0m\u001b[0;34m(\u001b[0m\u001b[0;34m\"Contour levels must be increasing\"\u001b[0m\u001b[0;34m)\u001b[0m\u001b[0;34m\u001b[0m\u001b[0m\n\u001b[0m\u001b[1;32m   1190\u001b[0m \u001b[0;34m\u001b[0m\u001b[0m\n\u001b[1;32m   1191\u001b[0m     \u001b[0;32mdef\u001b[0m \u001b[0m_process_levels\u001b[0m\u001b[0;34m(\u001b[0m\u001b[0mself\u001b[0m\u001b[0;34m)\u001b[0m\u001b[0;34m:\u001b[0m\u001b[0;34m\u001b[0m\u001b[0m\n",
      "\u001b[0;31mValueError\u001b[0m: Contour levels must be increasing"
     ]
    },
    {
     "data": {
      "image/png": "[encoded data removed]",
      "text/plain": [
       "<matplotlib.figure.Figure at 0x1121ba0d0>"
      ]
     },
     "metadata": {},
     "output_type": "display_data"
    }
   ],
   "source": [
    "#Look at posteriors for hyperparameters\n",
    "samples = chain1.reshape((-1,2))\n",
    "fig = triangle.corner(samples, labels=['log(a)', 'l'],quantiles=[0.16, 0.5, 0.84],\n",
    "                       show_titles=True, title_kwargs={\"fontsize\": 12})"
   ]
  },
  {
   "cell_type": "code",
   "execution_count": 31,
   "metadata": {
    "collapsed": true
   },
   "outputs": [],
   "source": [
    "post = np.percentile(samples, [16, 50, 84], axis=0)\n",
    "#These hyperparameter values can be reinput at the top of the notebook and steps 3b, 3c, and plotting rerun."
   ]
  },
  {
   "cell_type": "code",
   "execution_count": null,
   "metadata": {
    "collapsed": true
   },
   "outputs": [],
   "source": []
  }
 ],
 "metadata": {
  "kernelspec": {
   "display_name": "Python 2",
   "language": "python",
   "name": "python2"
  },
  "language_info": {
   "codemirror_mode": {
    "name": "ipython",
    "version": 2
   },
   "file_extension": ".py",
   "mimetype": "text/x-python",
   "name": "python",
   "nbconvert_exporter": "python",
   "pygments_lexer": "ipython2",
   "version": "2.7.6"
  }
 },
 "nbformat": 4,
 "nbformat_minor": 0
}
