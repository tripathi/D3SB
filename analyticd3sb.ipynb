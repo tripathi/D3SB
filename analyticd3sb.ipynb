{
 "cells": [
  {
   "cell_type": "code",
   "execution_count": 1,
   "metadata": {
    "collapsed": true
   },
   "outputs": [],
   "source": [
    "%matplotlib inline\n",
    "import numpy as np\n",
    "import scipy.special as sc\n",
    "import time"
   ]
  },
  {
   "cell_type": "markdown",
   "metadata": {},
   "source": [
    "Let's go through the steps."
   ]
  },
  {
   "cell_type": "markdown",
   "metadata": {},
   "source": [
    "Our data set contains a collection of $n$ data visibilities, each indexed by $Y_j$. It is represented by a column vector of length $n$ as\n",
    "\n",
    "$$\n",
    "\\vec{Y} = \\begin{bmatrix}\n",
    "Y_1\\\\\n",
    "Y_2\\\\\n",
    "\\vdots\\\\\n",
    "Y_j\\\\\n",
    "\\vdots\\\\\n",
    "Y_n\n",
    "\\end{bmatrix}\n",
    "$$\n",
    "\n",
    "We assert that the noise on each visibility is Gaussian and independent from every other visibility. This means that $\\Sigma$ is a diagonal matrix of size ($n$,$n$), given by\n",
    "$$\n",
    "\\Sigma=\n",
    "  \\begin{pmatrix}\n",
    "  \\sigma_1^2 & &0\\\\\n",
    "  &\\ddots& \\\\\n",
    " 0 & & \\sigma_n^2\n",
    "  \\end{pmatrix},\n",
    "  \\qquad\n",
    "  \\Sigma^{-1}=\n",
    "  \\begin{pmatrix}\n",
    "  dwgt_1 & &0\\\\\n",
    "  &\\ddots& \\\\\n",
    " 0 & & dwgt_n\n",
    "  \\end{pmatrix} .\n",
    "$$\n"
   ]
  },
  {
   "cell_type": "code",
   "execution_count": 2,
   "metadata": {
    "collapsed": false
   },
   "outputs": [],
   "source": [
    "#Input data\n",
    "hiresvis = 'DATA/fullA_nf.vis.npz'\n",
    "#synthimg = 'DATA/fullA.image.fits'\n",
    "\n",
    "#Geometric params [Currently hardcoded]\n",
    "incl = 50.\n",
    "PA = 70.\n",
    "offx = -0.3\n",
    "offy = -0.2\n",
    "\n",
    "\n",
    "def readinVis(datafile):\n",
    "    \"\"\"\n",
    "    Extracts visibility data from a CASA and python generated .npz file.\n",
    "    :param datafile: name of .npz file\n",
    "    \"\"\"\n",
    "    datfile = np.load(datafile)\n",
    "    return datfile['u'], datfile['v'], datfile['Vis'], datfile['Wgt']#, datfile['freq']  \n",
    "\n",
    "global dvis, dwgt\n",
    "u, v, dvis, dwgt = readinVis(hiresvis)"
   ]
  },
  {
   "cell_type": "markdown",
   "metadata": {},
   "source": [
    "We can compare the data to model visibilities.  \n",
    "\n",
    "The model computes a single complex visibility at a particular radial visibility $\\rho_j$ as the sum of $m$ Bessel functions, each indexed by $i$. This also means that in real space, the model has $m$ total bins, each indexed by $i$.\n",
    "\n",
    "$$\n",
    "M(\\rho_j) = M_j =  \\sum_{i=1}^m {w_i \\over \\rho_j} \\left [{r_b}_i J_1(2\\pi {r_b}_i \\rho_j) - {r_a}_i J_1(2\\pi {r_a}_i \\rho_j) \\right ] = \\sum_i w_i x(\\rho_j ; r_{i}),\n",
    "$$\n",
    "\n",
    "or in matrix form:\n",
    "$$\n",
    "\\vec{M} = \\begin{bmatrix}\n",
    "M_1\\\\\n",
    "M_2\\\\\n",
    "\\vdots\\\\\n",
    "M_j\\\\\n",
    "\\vdots\\\\\n",
    "M_n\n",
    "\\end{bmatrix}\n",
    " = \\undertilde{X}\\vec{w}.\n",
    "$$\n",
    "\n",
    "$$\n",
    "\\vec{w}  = \\begin{bmatrix}\n",
    "w_{1} \\\\\n",
    "\\vdots \\\\\n",
    "w_i\\\\\n",
    "\\vdots \\\\\n",
    "w_{m}\n",
    "\\end{bmatrix},\n",
    "\\qquad\n",
    "  \\undertilde{X}=\n",
    "  \\begin{pmatrix}\n",
    "  x (\\rho_{1} ;r_{1}) & ... & x(\\rho_{1}; r_{i}) & ... & x(\\rho_{1} ;r_{m})\\\\\n",
    "  \\vdots & & & & \\vdots \\\\\n",
    "  x (\\rho_{j}; r_{i}) & &\\ddots& & x(\\rho_{j}; r_{m}) \\\\\n",
    "  \\vdots & & & & \\vdots \\\\\n",
    "  x(\\rho_{n} ;r_{1})  & ... & x(\\rho_{n}; r_{i}) & ... &  x(\\rho_{n} ;r_{m})\n",
    "  \\end{pmatrix}.\n",
    "$$         "
   ]
  },
  {
   "cell_type": "markdown",
   "metadata": {},
   "source": [
    "Deproject the visibilities to get the $\\rho$."
   ]
  },
  {
   "cell_type": "code",
   "execution_count": 3,
   "metadata": {
    "collapsed": false
   },
   "outputs": [
    {
     "name": "stdout",
     "output_type": "stream",
     "text": [
      "[   26488.72972145    75307.26939571    84945.12078541 ...,\n",
      "  1132472.78693692  1074679.09519694  1085221.97323668]\n",
      "239 Visibilities\n"
     ]
    },
    {
     "data": {
      "image/png": "[encoded data removed]",
      "text/plain": [
       "<matplotlib.figure.Figure at 0x112c77ed0>"
      ]
     },
     "metadata": {},
     "output_type": "display_data"
    }
   ],
   "source": [
    "#Deproject the visibilities\n",
    "arcsec = 180./np.pi*3600.\n",
    "## convert angles to radians\n",
    "inclr = np.radians(incl)\n",
    "PAr = 0.5*np.pi-np.radians(PA)\n",
    "offrx = -offx / arcsec\n",
    "offry = -offy / arcsec\n",
    "## phase center shift \n",
    "shift = np.exp(-2.*np.pi*1.0j*((u*-offrx) + (v*-offry))) \n",
    "\n",
    "## coordinate change to deal with projection, rotation, and shifts\n",
    "rho = np.sqrt(u**2 + v**2)\n",
    "uprime = (u*np.cos(PAr) + v*np.sin(PAr)) \n",
    "vprime = (-u*np.sin(PAr) + v*np.cos(PAr)) * np.cos(inclr)\n",
    "rhoprime = np.sqrt(uprime **2. + vprime **2.)\n",
    "\n",
    "#dprj_vis = deproject_vis([data['u'], data['v'], data['Vis'], data['Wgt']], \n",
    "#                   bins=np.linspace(10., 3000., num=150.), incl=50., PA=70.,\n",
    "#                   offx=-0.3, offy=-0.2)\n",
    "\n",
    "#Binned visibilities\n",
    "from deprojectVis import deproject_vis\n",
    "newbins = np.arange(1., np.amax(rho)/1000, 10)\n",
    "print rho\n",
    "dprj_vis = deproject_vis([u, v, dvis, dwgt], newbins, incl, PA, offx, offy)\n",
    "dpjrho, dpjvis, dpjsig = dprj_vis\n",
    "\n",
    "\n",
    "#Assign data vec and matrix\n",
    "#y = dvis.real[:, np.newaxis] #THIS IS ONLY REALS RIGHT NOW!\n",
    "#sigma = np.diag(1./dwgt.real)\n",
    "y = dpjvis.real[:, np.newaxis] #THIS IS ONLY REALS RIGHT NOW!\n",
    "sigma = np.diag(dpjsig.real*dpjsig.real)\n",
    "\n",
    "plt.plot(rho, dvis.real,'.k', label='Original')\n",
    "plt.plot(rhoprime, (dvis*shift).real,'.b', label='Deprojected')\n",
    "plt.plot(dpjrho, dpjvis.real, '.y', label='Binned')\n",
    "\n",
    "rho = dpjrho/arcsec\n",
    "M = rho.size #Currently in this code M and N are REVERSED from m&n notation used in the text\n",
    "print M, 'Visibilities'"
   ]
  },
  {
   "cell_type": "markdown",
   "metadata": {},
   "source": [
    "Choose the bins."
   ]
  },
  {
   "cell_type": "code",
   "execution_count": 4,
   "metadata": {
    "collapsed": true
   },
   "outputs": [],
   "source": [
    "#Choose bins\n",
    "binmin = 0.1\n",
    "binmax = 1.1\n",
    "rin = .01/140.\n",
    "nbins = 36\n",
    "b = np.linspace(binmin, binmax, num=nbins-1) \n",
    "rleft = np.insert(b[:-1],0,rin)\n",
    "rright = b\n",
    "global cb\n",
    "cb = 0.5*(rleft + rright)\n",
    "#initfile = np.load('init_fullA_22.npz')\n",
    "#rleft = np.insert(initfile['b'][:-1],0, initfile['rin'])\n",
    "#rright = initfile['b']\n",
    "#cb = initfile['cb']\n",
    "    \n",
    "N = rright.size\n",
    "\n"
   ]
  },
  {
   "cell_type": "markdown",
   "metadata": {},
   "source": [
    "We assume that the data visibilities are drawn from a (multi-dimensional) normal distribution\n",
    "$$\n",
    "\\vec{Y}  = \\begin{bmatrix}\n",
    "           Y_{1} \\\\\n",
    "           \\vdots \\\\\n",
    "           Y_{n}\n",
    "         \\end{bmatrix} \\sim N \\left (\\undertilde{X}\\vec{w},\\undertilde{\\Sigma} \\right),\n",
    "$$\n",
    "with a covariance matrix $\\Sigma$"
   ]
  },
  {
   "cell_type": "markdown",
   "metadata": {},
   "source": [
    "The posterior is given by\n",
    "$$\n",
    "P\\left(\\vec{w}\\rvert\\vec{Y}\\right) \\propto P\\left(\\vec{Y}\\rvert\\vec{w}\\right) \\cancelto{1}{P(\\vec{w})} \\propto N\\left(\\vec{Y}\\rvert X\\vec{w}, \\Sigma \\right)\n",
    "$$\n",
    "\n",
    "The maximum-likelihood solution to this type of problem is given by the least-squares solution (see Hogg's Data Analysis, Section 1).\n",
    "$$\n",
    "N\\left(\\vec{Y}\\rvert X\\vec{w}, \\Sigma \\right) \\propto N\\left(\\vec{w} \\rvert \\hat{w},\\undertilde{V_w}\\right)\n",
    "$$\n",
    "where the mean is given by the length-$m$ column vector\n",
    "$$\n",
    "\\hat{w} = (\\undertilde{X}^T \\Sigma^{-1} \\undertilde{X})^{-1}  \\undertilde{X}^T  \\Sigma^{-1} \\vec{Y}\n",
    "$$\n",
    "and the covariance matrix is given by the shape ($m,m$) matrix\n",
    "$$\n",
    "\\undertilde{V_w} = \\undertilde{X}^T \\Sigma^{-1} \\undertilde{X}\n",
    "$$\n"
   ]
  },
  {
   "cell_type": "code",
   "execution_count": 5,
   "metadata": {
    "collapsed": false
   },
   "outputs": [
    {
     "name": "stdout",
     "output_type": "stream",
     "text": [
      "[  1.58576660e+01  -4.46320312e+02   1.76459375e+03  -4.42362500e+03\n",
      "   8.65350000e+03  -1.43030000e+04   2.08062500e+04  -2.72780000e+04\n",
      "   3.27130000e+04  -3.62355000e+04   3.73025000e+04  -3.58225000e+04\n",
      "   3.21445000e+04  -2.69467500e+04   2.10488750e+04  -1.52351562e+04\n",
      "   1.01088750e+04  -6.02100000e+03   3.07150000e+03  -1.16625000e+03\n",
      "   9.45000000e+01   3.91250000e+02  -5.20000000e+02   4.65875000e+02\n",
      "  -3.45375000e+02   2.23625000e+02  -1.28531250e+02   6.55312500e+01\n",
      "  -2.91953125e+01   1.10390625e+01  -3.31152344e+00   6.55517578e-01\n",
      "  -8.54492188e-04  -5.29022217e-02   1.83296204e-02]\n"
     ]
    }
   ],
   "source": [
    "#Calculate x, V, and w_hat\n",
    "global x\n",
    "x = np.empty([M,N])\n",
    "intermed = np.empty([M,N])\n",
    "rhsright = np.empty(M)\n",
    "for j in range(M):\n",
    "    for i in range(N): \n",
    "        x[j][i] = 1./rho[j]*(rright[i]*sc.j1(rho[j]*2.*np.pi*rright[i]) - rleft[i]*sc.j1(rho[j]*2.*np.pi*rleft[i]))\n",
    "        intermed[j][i] = dwgt.real[j]*x[j][i]\n",
    "        rhsright[j] = dwgt.real[j]*y[j]\n",
    "global lhs\n",
    "lhs = np.linalg.inv(np.dot(np.transpose(x),intermed))  #This is Vw undertilde inverse\n",
    "rhs = np.dot(np.transpose(x), rhsright)\n",
    "global result\n",
    "result = np.dot(lhs, rhs) #This is w_hat\n",
    "print result\n",
    "del intermed, rhs"
   ]
  },
  {
   "cell_type": "markdown",
   "metadata": {},
   "source": [
    "Above we assumed the prior is a constant function.  If we instead assume the prior is a multi-dimensional Gaussian, the prior becomes:\n",
    "$$\n",
    "P(\\vec{w}) = N\\left(\\vec{w} | \\vec{\\mu}, \\undertilde{C} \\right)\n",
    "$$\n"
   ]
  },
  {
   "cell_type": "markdown",
   "metadata": {},
   "source": [
    "This ($m$,$m$) sized covariance matrix $\\undertilde{C}$ is a function of the hyperparameters, $\\undertilde{C}(a, l, \\sigma_w)$ and evaluated at each pair of bin points:\n",
    "$$\n",
    "\\undertilde{C} = \\begin{bmatrix}\n",
    "k(w_1, w_1) & ... & k(w_1, w_m)\\\\\n",
    "\\vdots & \\ddots &  \\vdots \\\\\n",
    "k(w_m, w_1) & ... & k(w_m, w_m)\\\\\n",
    "\\end{bmatrix}\n",
    "$$\n",
    "which uses the squared-exponential kernel:\n",
    "$$\n",
    "k(w_a, w_b | a, l, \\sigma_w) = a^2 \\exp \\left (-\\frac{(w_a - w_b)^2}{2 l^2} \\right) + \\sigma_w^2 \\delta_{ab}\n",
    "$$\n",
    "\n",
    "The posterior is described by a new multi-dimensional Gaussian\n",
    "$$\n",
    "P\\left(\\vec{w}\\rvert\\vec{Y}\\right) \\propto N\\left(\\vec{w} \\rvert \\tilde{w},\\undertilde{S_w}\\right)\n",
    "$$\n",
    "with covariance matrix\n",
    "$$\n",
    "\\undertilde{S_w}^{-1} = \\undertilde{V_w}^{-1} + \\undertilde{C}^{-1}\n",
    "$$\n",
    "and mean\n",
    "$$\n",
    "\\tilde{w} = \\undertilde{S_w} \\left[ \\undertilde{V_w}^{-1} \\hat{w} + \\undertilde{C}^{-1} \\vec{mu} \\right] \n",
    "$$\n"
   ]
  },
  {
   "cell_type": "markdown",
   "metadata": {},
   "source": [
    "For some values of $a$ and $l$ and the chosen mean:"
   ]
  },
  {
   "cell_type": "code",
   "execution_count": 6,
   "metadata": {
    "collapsed": false
   },
   "outputs": [],
   "source": [
    "#Hyperparameters\n",
    "gpa = 0.05\n",
    "gam = 1.\n",
    "gpl = .15\n",
    "\n",
    "#True SB\n",
    "flux = 0.12\n",
    "sig = 0.6\n",
    "incl = 50.\n",
    "PA = 70.\n",
    "offx = -0.3\n",
    "offy = -0.2\n",
    "nominal_SB = (sig/cb)**0.7 * np.exp(-(cb/sig)**2.5)\t# fullA distribution\n",
    "int_SB = np.trapz(2.*np.pi*nominal_SB*cb, cb)\t\t# a check on the total flux\n",
    "nominal_SB *= flux / int_SB\n",
    "meanw = nominal_SB #What to use for the mean in C, the bin intensities' covariance matrix"
   ]
  },
  {
   "cell_type": "markdown",
   "metadata": {},
   "source": [
    "We calculate the new mean and covariance matrix with:"
   ]
  },
  {
   "cell_type": "code",
   "execution_count": 7,
   "metadata": {
    "collapsed": false
   },
   "outputs": [],
   "source": [
    "def kexp2(i1, i2, ibins=None, a=None, l=None, gamma=None):\n",
    "    ri = ibins[i1]\n",
    "    rj = ibins[i2]\n",
    "    return ri**gamma*a*a * np.exp(-((ri - rj)**2.)/(2.*l*l)) #Doesn't have cross term\n",
    "\n",
    "def calccovar(binsin, ain, lin, gamin):\n",
    "    '''\n",
    "    Calculate the covariance matrix using a squared exponential kernel\n",
    "    a: normalization amplitude\n",
    "    l: correlation length\n",
    "    '''\n",
    "    nbins = binsin.shape[0]\n",
    "    cov = np.fromfunction(kexp2,(nbins,nbins), ibins=binsin, a=ain, l=lin, gamma = gamin, dtype = np.int)\n",
    "    return cov\n",
    "\n",
    "def calcwtilde(gpain, gplin, meanwin):\n",
    "    #Calculate covariance\n",
    "    global C, Swinv\n",
    "    C = calccovar(cb, gpain, gplin, gam)\n",
    "    Cinv = np.linalg.inv(C)\n",
    "    Swinv = lhs + Cinv\n",
    "\n",
    "    #Return new mean (wtilde)\n",
    "    intermed2 = np.dot(Cinv,meanwin)\n",
    "    wtilde = np.dot(np.linalg.inv(Swinv),np.dot(lhs,result)) + np.dot(np.linalg.inv(Swinv),intermed2)\n",
    "    return wtilde"
   ]
  },
  {
   "cell_type": "code",
   "execution_count": 8,
   "metadata": {
    "collapsed": false
   },
   "outputs": [
    {
     "name": "stdout",
     "output_type": "stream",
     "text": [
      "[  5.89485352e+07   1.91377059e+07   6.38631649e+07  -7.07251416e+06\n",
      "  -4.63301384e+07  -4.49733446e+04   3.32031682e+07  -3.93387963e+07\n",
      "  -1.80125068e+08  -2.71141520e+08  -2.44872067e+08  -1.37993356e+08\n",
      "  -3.37636451e+07   1.80167723e+07   2.21300616e+07   5.35808677e+06\n",
      "  -1.60991650e+07  -3.97342191e+07  -6.42864752e+07  -8.46141211e+07\n",
      "  -9.69206451e+07  -1.02638857e+08  -1.04748277e+08  -1.02148388e+08\n",
      "  -8.96506470e+07  -6.37367351e+07  -2.78355739e+07   7.94733586e+06\n",
      "   3.21037483e+07   3.76300417e+07   2.47424643e+07  -3.86319938e+05\n",
      "  -2.91414813e+07  -5.39241769e+07  -7.01395337e+07]\n"
     ]
    },
    {
     "data": {
      "text/plain": [
       "<matplotlib.legend.Legend at 0x115f9c510>"
      ]
     },
     "execution_count": 8,
     "metadata": {},
     "output_type": "execute_result"
    },
    {
     "data": {
      "image/png": "[encoded data removed]",
      "text/plain": [
       "<matplotlib.figure.Figure at 0x112fb9290>"
      ]
     },
     "metadata": {},
     "output_type": "display_data"
    }
   ],
   "source": [
    "wtilde = calcwtilde(gpa, gpl, meanw)\n",
    "print wtilde\n",
    "#Plot output\n",
    "plt.figure(1)\n",
    "#plt.subplot(2,1,1)\n",
    "plt.plot(cb, nominal_SB, 'ks')\n",
    "plt.plot(cb, nominal_SB, '-k')\n",
    "plt.plot(cb, result, 'bo', label=r\"$\\hat{w}$\")\n",
    "plt.plot(cb, wtilde, 'ro', label=r\"${w}~w/GP$\")\n",
    "plt.plot(cb[0],[.47],'*g')\n",
    "ax = plt.gca()\n",
    "plt.xlim(.4*b[0], 1.1*b[-1])\n",
    "ax.set_xscale('log')\n",
    "ax.set_yscale('log')\n",
    "plt.legend(loc=\"lower left\")"
   ]
  },
  {
   "cell_type": "code",
   "execution_count": 16,
   "metadata": {
    "collapsed": false
   },
   "outputs": [
    {
     "data": {
      "text/plain": [
       "<matplotlib.legend.Legend at 0x124337b10>"
      ]
     },
     "execution_count": 16,
     "metadata": {},
     "output_type": "execute_result"
    },
    {
     "data": {
      "image/png": "[encoded data removed]",
      "text/plain": [
       "<matplotlib.figure.Figure at 0x1241626d0>"
      ]
     },
     "metadata": {},
     "output_type": "display_data"
    }
   ],
   "source": [
    "plt.subplot(311)\n",
    "plt.title('Draws from C')\n",
    "for draw in np.random.multivariate_normal(np.zeros_like(result), C, size=20):\n",
    "    plt.plot(cb, draw, color=\"0.5\")\n",
    "\n",
    "#plt.plot(cb, nominal_SB-result, 'bo')\n",
    "\n",
    "plt.subplot(312)        \n",
    "plt.title('Draws from Vw')\n",
    "for draw in np.random.multivariate_normal(result, np.linalg.inv(lhs), size=20):\n",
    "    plt.plot(cb, draw, color=\"0.5\")\n",
    "\n",
    "#plt.plot(cb, result, color=\"b\", label=r\"$\\hat{w}$\")\n",
    "#plt.plot(cb, wtilde, color=\"r\", label=r\"${w}~w/GP$\")\n",
    "#plt.plot(cb, nominal_SB, color=\"k\", label=\"truth\")\n",
    "\n",
    "\n",
    "plt.subplot(313)\n",
    "plt.title('Draws from Sw')\n",
    "this = np.random.multivariate_normal(wtilde, np.linalg.inv(Swinv), size=10000)\n",
    "\n",
    "for draw in np.random.multivariate_normal(wtilde, np.linalg.inv(Swinv), size=20):\n",
    "    plt.plot(cb, draw, color=\"0.5\")\n",
    "#plt.plot(cb, result, color=\"b\", label=r\"$\\hat{w}$\", marker = 'o', linestyle='-')\n",
    "plt.plot(cb, wtilde, color=\"r\", label=r\"${w}~w/GP$\", marker = 'o', linestyle='-')\n",
    "#plt.plot(cb, nominal_SB, color=\"k\", label=\"truth\")\n",
    "\n",
    "\n",
    "plt.legend(loc=\"upper right\")\n",
    "\n"
   ]
  },
  {
   "cell_type": "markdown",
   "metadata": {
    "collapsed": false,
    "scrolled": true
   },
   "source": [
    "#Plot corner diagram\n",
    "import corner\n",
    "fig = corner.corner(this, show_titles=True, quantiles=(0.16, 0.84))\n"
   ]
  },
  {
   "cell_type": "markdown",
   "metadata": {
    "collapsed": false
   },
   "source": [
    "k1 = np.zeros([M,N])\n",
    "#k1 = np.dot(x,C)\n",
    "for j in xrange(M):\n",
    "    for i in xrange(N): \n",
    "        k1[j][i] = np.dot(x[j],C[:,i])\n",
    "k = np.zeros([M,M])        \n",
    "tic =  time.time()\n",
    "print tic\n",
    "for mm1 in xrange(M):\n",
    "    if (mm1%100==0):\n",
    "        print mm1\n",
    "        print (time.time()-tic)/60\n",
    "    for mm2 in xrange(M):\n",
    "        k[mm1][mm2] = np.dot(k1[mm2],x[mm1])"
   ]
  },
  {
   "cell_type": "code",
   "execution_count": 10,
   "metadata": {
    "collapsed": false
   },
   "outputs": [],
   "source": [
    "#Calculate the evidence as a function of GP amplitude and length\n",
    "def calcZ(theta, cb):\n",
    "    ggpa = theta[0]\n",
    "    ggpl = theta[1]\n",
    "    C = calccovar(cb, ggpa, ggpl, 1.)\n",
    "    K = np.zeros([M,M])  \n",
    "    K = sigma + np.dot(np.dot(x,C),np.transpose(x))\n",
    "    (sign,logdet) = np.linalg.slogdet(2.*np.pi*K)\n",
    "    logZ = -.5*(logdet+np.dot(np.dot(np.transpose(y),np.linalg.inv(K)),y))\n",
    "#    if (sign<0): print \"Warning, negative determinant\"\n",
    "    return logZ"
   ]
  },
  {
   "cell_type": "code",
   "execution_count": 13,
   "metadata": {
    "collapsed": false
   },
   "outputs": [
    {
     "name": "stdout",
     "output_type": "stream",
     "text": [
      "[ -7.56036495e-12   3.62390718e-02]\n",
      "[ 0.46448628  0.256266    0.21575413  0.18631328  0.16341294  0.14471296\n",
      "  0.12888562  0.1151277   0.10293122  0.09196534  0.08201     0.07291732\n",
      "  0.06458648  0.05694836  0.04995406  0.04356773  0.03776106  0.03250937\n",
      "  0.02778929  0.0235766   0.01984568  0.01656853  0.01371512  0.01125336\n",
      "  0.00914974  0.00736992  0.00587937  0.00464414  0.00363146  0.00281035\n",
      "  0.00215202  0.0016302   0.0012214   0.00090491  0.00066282]\n"
     ]
    },
    {
     "data": {
      "image/png": "[encoded data removed]",
      "text/plain": [
       "<matplotlib.figure.Figure at 0x10d73f9d0>"
      ]
     },
     "metadata": {},
     "output_type": "display_data"
    }
   ],
   "source": [
    "#Minimize the evidence for GP amplitude and length\n",
    "from scipy.optimize import minimize\n",
    "thetaguess = np.array([1,.02])\n",
    "opt = minimize(calcZ, thetaguess, args=(cb), method='Nelder-Mead', tol=1e-6)\n",
    "print opt.x\n",
    "\n",
    "#Examine new output\n",
    "wtilde = calcwtilde(opt.x[0], opt.x[1], meanw)\n",
    "print wtilde\n",
    "#Plot output\n",
    "plt.figure(1)\n",
    "plt.subplot(2,1,1)\n",
    "plt.plot(cb, nominal_SB, 'ks')\n",
    "plt.plot(cb, nominal_SB, '-k')\n",
    "plt.plot(cb, result, 'bo', label=r\"$\\hat{w}$\")\n",
    "plt.plot(cb, wtilde, 'ro', label=r\"${w}~w/GP$\")\n",
    "plt.plot(cb[0],[.47],'*g')\n",
    "ax = plt.gca()\n",
    "plt.xlim(.4*b[0], 1.1*b[-1])\n",
    "ax.set_xscale('log')\n",
    "ax.set_yscale('log')\n",
    "plt.legend(loc=\"lower left\")\n",
    "plt.title('Mean: truth')\n",
    "\n",
    "#Plot residuals\n",
    "plt.subplot(212)\n",
    "plt.plot(cb, nominal_SB-wtilde, 'ro')\n",
    "plt.savefig(\"hyperparamopt_meantruth.png\")"
   ]
  },
  {
   "cell_type": "code",
   "execution_count": 12,
   "metadata": {
    "collapsed": false
   },
   "outputs": [
    {
     "data": {
      "image/png": "[encoded data removed]",
      "text/plain": [
       "<matplotlib.figure.Figure at 0x120eb89d0>"
      ]
     },
     "metadata": {},
     "output_type": "display_data"
    }
   ],
   "source": [
    "import d3sbfxns as f\n",
    "synthimg = 'DATA/fullA.image.fits'\n",
    "rsb, sb, beaminfo = f.sbdata(synthimg, PA, incl, offx, offy)\n",
    "sbbin, sigmabin = f.sbmeanbin(rin, b, rsb, sb)\n",
    "wtilde = calcwtilde(opt.x[0], opt.x[1], np.zeros_like(sbbin))\n",
    "plt.subplot(211)\n",
    "plt.plot(cb, nominal_SB, 'ks')\n",
    "plt.plot(cb, nominal_SB, '-k')\n",
    "plt.plot(cb, result, 'bo', label=r\"$\\hat{w}$\")\n",
    "plt.plot(cb, wtilde, 'ro', label=r\"${w}~w/GP$\")\n",
    "plt.plot(cb[0],[.47],'*g')\n",
    "ax = plt.gca()\n",
    "plt.xlim(.4*b[0], 1.1*b[-1])\n",
    "ax.set_xscale('log')\n",
    "ax.set_yscale('log')\n",
    "plt.legend(loc=\"lower left\")\n",
    "plt.title('Mean: image')\n",
    "\n",
    "#Plot residuals\n",
    "plt.subplot(212)\n",
    "plt.plot(cb, (nominal_SB-wtilde), 'ro')\n",
    "q = wtilde[nominal_SB<wtilde]\n",
    "#plt.plot(cb[nominal_SB<wtilde],np.fabs(nominal_SB[nominal_SB<wtilde]-q),'ks')\n",
    "ax = plt.gca()\n",
    "plt.xlim(.4*b[0], 1.1*b[-1])\n",
    "#ax.set_yscale('log')\n",
    "plt.savefig(\"hyperparamopt_meanimage.png\")"
   ]
  },
  {
   "cell_type": "code",
   "execution_count": null,
   "metadata": {
    "collapsed": true
   },
   "outputs": [],
   "source": []
  }
 ],
 "metadata": {
  "kernelspec": {
   "display_name": "Python 2",
   "language": "python",
   "name": "python2"
  },
  "language_info": {
   "codemirror_mode": {
    "name": "ipython",
    "version": 2
   },
   "file_extension": ".py",
   "mimetype": "text/x-python",
   "name": "python",
   "nbconvert_exporter": "python",
   "pygments_lexer": "ipython2",
   "version": "2.7.10"
  }
 },
 "nbformat": 4,
 "nbformat_minor": 0
}
