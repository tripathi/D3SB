{
 "cells": [
  {
   "cell_type": "code",
   "execution_count": 1,
   "metadata": {
    "collapsed": true
   },
   "outputs": [],
   "source": [
    "%matplotlib inline\n",
    "import numpy as np\n",
    "import scipy.special as sc\n",
    "import time"
   ]
  },
  {
   "cell_type": "markdown",
   "metadata": {},
   "source": [
    "Let's go through the steps."
   ]
  },
  {
   "cell_type": "markdown",
   "metadata": {},
   "source": [
    "Our data set contains a collection of $n$ data visibilities, each indexed by $Y_j$. It is represented by a column vector of length $n$ as\n",
    "\n",
    "$$\n",
    "\\vec{Y} = \\begin{bmatrix}\n",
    "Y_1\\\\\n",
    "Y_2\\\\\n",
    "\\vdots\\\\\n",
    "Y_j\\\\\n",
    "\\vdots\\\\\n",
    "Y_n\n",
    "\\end{bmatrix}\n",
    "$$\n",
    "\n",
    "We assert that the noise on each visibility is Gaussian and independent from every other visibility. This means that $\\Sigma$ is a diagonal matrix of size ($n$,$n$), given by\n",
    "$$\n",
    "\\Sigma=\n",
    "  \\begin{pmatrix}\n",
    "  \\sigma_1^2 & &0\\\\\n",
    "  &\\ddots& \\\\\n",
    " 0 & & \\sigma_n^2\n",
    "  \\end{pmatrix},\n",
    "  \\qquad\n",
    "  \\Sigma^{-1}=\n",
    "  \\begin{pmatrix}\n",
    "  dwgt_1 & &0\\\\\n",
    "  &\\ddots& \\\\\n",
    " 0 & & dwgt_n\n",
    "  \\end{pmatrix} .\n",
    "$$\n"
   ]
  },
  {
   "cell_type": "code",
   "execution_count": 2,
   "metadata": {
    "collapsed": false
   },
   "outputs": [],
   "source": [
    "#Input data\n",
    "hiresvis = 'DATA/fullA.vis.npz'\n",
    "#synthimg = 'DATA/fullA.image.fits'\n",
    "\n",
    "#Geometric params [Currently hardcoded]\n",
    "incl = 50.\n",
    "PA = 70.\n",
    "offx = -0.3\n",
    "offy = -0.2\n",
    "\n",
    "\n",
    "def readinVis(datafile):\n",
    "    \"\"\"\n",
    "    Extracts visibility data from a CASA and python generated .npz file.\n",
    "    :param datafile: name of .npz file\n",
    "    \"\"\"\n",
    "    datfile = np.load(datafile)\n",
    "    return datfile['u'], datfile['v'], datfile['Vis'], datfile['Wgt']#, datfile['freq']  \n",
    "\n",
    "global dvis, dwgt\n",
    "u, v, dvis, dwgt = readinVis(hiresvis)"
   ]
  },
  {
   "cell_type": "markdown",
   "metadata": {},
   "source": [
    "We can compare the data to model visibilities.  \n",
    "\n",
    "The model computes a single complex visibility at a particular radial visibility $\\rho_j$ as the sum of $m$ Bessel functions, each indexed by $i$. This also means that in real space, the model has $m$ total bins, each indexed by $i$.\n",
    "\n",
    "$$\n",
    "M(\\rho_j) = M_j =  \\sum_{i=1}^m {w_i \\over \\rho_j} \\left [{r_b}_i J_1(2\\pi {r_b}_i \\rho_j) - {r_a}_i J_1(2\\pi {r_a}_i \\rho_j) \\right ] = \\sum_i w_i x(\\rho_j ; r_{i}),\n",
    "$$\n",
    "\n",
    "or in matrix form:\n",
    "$$\n",
    "\\vec{M} = \\begin{bmatrix}\n",
    "M_1\\\\\n",
    "M_2\\\\\n",
    "\\vdots\\\\\n",
    "M_j\\\\\n",
    "\\vdots\\\\\n",
    "M_n\n",
    "\\end{bmatrix}\n",
    " = \\undertilde{X}\\vec{w}.\n",
    "$$\n",
    "\n",
    "$$\n",
    "\\vec{w}  = \\begin{bmatrix}\n",
    "w_{1} \\\\\n",
    "\\vdots \\\\\n",
    "w_i\\\\\n",
    "\\vdots \\\\\n",
    "w_{m}\n",
    "\\end{bmatrix},\n",
    "\\qquad\n",
    "  \\undertilde{X}=\n",
    "  \\begin{pmatrix}\n",
    "  x (\\rho_{1} ;r_{1}) & ... & x(\\rho_{1}; r_{i}) & ... & x(\\rho_{1} ;r_{m})\\\\\n",
    "  \\vdots & & & & \\vdots \\\\\n",
    "  x (\\rho_{j}; r_{i}) & &\\ddots& & x(\\rho_{j}; r_{m}) \\\\\n",
    "  \\vdots & & & & \\vdots \\\\\n",
    "  x(\\rho_{n} ;r_{1})  & ... & x(\\rho_{n}; r_{i}) & ... &  x(\\rho_{n} ;r_{m})\n",
    "  \\end{pmatrix}.\n",
    "$$         "
   ]
  },
  {
   "cell_type": "markdown",
   "metadata": {},
   "source": [
    "Deproject the visibilities to get the $\\rho$."
   ]
  },
  {
   "cell_type": "code",
   "execution_count": 118,
   "metadata": {
    "collapsed": false
   },
   "outputs": [
    {
     "data": {
      "image/png": "[encoded data removed]",
      "text/plain": [
       "<matplotlib.figure.Figure at 0x12393ccd0>"
      ]
     },
     "metadata": {},
     "output_type": "display_data"
    }
   ],
   "source": [
    "#Deproject the visibilities\n",
    "arcsec = 180./np.pi*3600.\n",
    "## convert angles to radians\n",
    "inclr = np.radians(incl)\n",
    "PAr = 0.5*np.pi-np.radians(PA)\n",
    "offrx = offx / arcsec\n",
    "offry = offy / arcsec\n",
    "## phase center shift - NOT CURRENTLY USED\n",
    "shift = np.exp(-2.*np.pi*1.0j*((u*-offrx) + (v*-offry))) \n",
    "## coordinate change to deal with projection, rotation, and shifts\n",
    "uprime = (u*np.cos(PAr) + v*np.sin(PAr)) \n",
    "vprime = (-u*np.sin(PAr) + v*np.cos(PAr)) * np.cos(inclr)\n",
    "\n",
    "\n",
    "#Binned visibilities\n",
    "from deprojectVis import deproject_vis\n",
    "rho = np.sqrt(u**2 + v**2)\n",
    "newbins = np.arange(1., np.amax(np.sqrt(u**2 + v**2))/1000, 100.)\n",
    "dprj_vis = deproject_vis([u, v, dvis, dwgt], newbins, incl, PA, offx, offy)\n",
    "dpjrho, dpjvis, dpjsig = dprj_vis\n",
    "plt.plot(rho, dvis.real,'.k')\n",
    "plt.plot(dpjrho, dpjvis.real, '.b')\n",
    "\n",
    "#Assign data vec and matrix\n",
    "#y = dvis.real[:, np.newaxis] #THIS IS ONLY REALS RIGHT NOW!\n",
    "#sigma = np.diag(1./dwgt.real)\n",
    "y = dpjvis.real[:, np.newaxis] #THIS IS ONLY REALS RIGHT NOW!\n",
    "sigma = np.diag(dpjsig.real*dpjsig.real)\n",
    "\n",
    "\n",
    "rho = dpjrho/arcsec#np.sqrt(uprime**2 + vprime**2)/arcsec\n",
    "M = rho.size #Currently in this code M and N are REVERSED from m&n notation used in the text"
   ]
  },
  {
   "cell_type": "markdown",
   "metadata": {},
   "source": [
    "Choose the bins."
   ]
  },
  {
   "cell_type": "code",
   "execution_count": 119,
   "metadata": {
    "collapsed": true
   },
   "outputs": [],
   "source": [
    "#Choose bins\n",
    "binmin = 0.1\n",
    "binmax = 1.1\n",
    "rin = .01/140.\n",
    "nbins = 30\n",
    "b = np.linspace(binmin, binmax, num=nbins-1) \n",
    "rleft = np.insert(b[:-1],0,rin)\n",
    "rright = b\n",
    "global cb\n",
    "cb = 0.5*(rleft + rright)\n",
    "#initfile = np.load('init_fullA_22.npz')\n",
    "#rleft = np.insert(initfile['b'][:-1],0, initfile['rin'])\n",
    "#rright = initfile['b']\n",
    "#cb = initfile['cb']\n",
    "    \n",
    "N = rright.size\n",
    "\n"
   ]
  },
  {
   "cell_type": "markdown",
   "metadata": {},
   "source": [
    "We assume that the data visibilities are drawn from a (multi-dimensional) normal distribution\n",
    "$$\n",
    "\\vec{Y}  = \\begin{bmatrix}\n",
    "           Y_{1} \\\\\n",
    "           \\vdots \\\\\n",
    "           Y_{n}\n",
    "         \\end{bmatrix} \\sim N \\left (\\undertilde{X}\\vec{w},\\undertilde{\\Sigma} \\right),\n",
    "$$\n",
    "with a covariance matrix $\\Sigma$"
   ]
  },
  {
   "cell_type": "markdown",
   "metadata": {},
   "source": [
    "The posterior is given by\n",
    "$$\n",
    "P\\left(\\vec{w}\\rvert\\vec{Y}\\right) \\propto P\\left(\\vec{Y}\\rvert\\vec{w}\\right) \\cancelto{1}{P(\\vec{w})} \\propto N\\left(\\vec{Y}\\rvert X\\vec{w}, \\Sigma \\right)\n",
    "$$\n",
    "\n",
    "The maximum-likelihood solution to this type of problem is given by the least-squares solution (see Hogg's Data Analysis, Section 1).\n",
    "$$\n",
    "N\\left(\\vec{Y}\\rvert X\\vec{w}, \\Sigma \\right) \\propto N\\left(\\vec{w} \\rvert \\hat{w},\\undertilde{V_w}\\right)\n",
    "$$\n",
    "where the mean is given by the length-$m$ column vector\n",
    "$$\n",
    "\\hat{w} = (\\undertilde{X}^T \\Sigma^{-1} \\undertilde{X})^{-1}  \\undertilde{X}^T  \\Sigma^{-1} \\vec{Y}\n",
    "$$\n",
    "and the covariance matrix is given by the shape ($m,m$) matrix\n",
    "$$\n",
    "\\undertilde{V_w} = \\undertilde{X}^T \\Sigma^{-1} \\undertilde{X}\n",
    "$$\n"
   ]
  },
  {
   "cell_type": "code",
   "execution_count": 120,
   "metadata": {
    "collapsed": false
   },
   "outputs": [
    {
     "name": "stdout",
     "output_type": "stream",
     "text": [
      "[ -7.34008789e+00   4.17075195e+01  -7.99746094e+01   1.14328125e+02\n",
      "  -1.42781250e+02   1.63734375e+02  -1.72281250e+02   1.85062500e+02\n",
      "  -1.95437500e+02   1.98875000e+02  -1.96750000e+02   1.86062500e+02\n",
      "  -1.69562500e+02   1.48375000e+02  -1.24875000e+02   1.03625000e+02\n",
      "  -8.26250000e+01   6.50000000e+01  -4.96250000e+01   3.43437500e+01\n",
      "  -2.09843750e+01   1.09687500e+01  -4.06250000e+00   1.25000000e-01\n",
      "   3.50000000e+00  -5.12500000e+00   3.00000000e+00  -3.37500000e+00\n",
      "   2.62500000e+00]\n"
     ]
    }
   ],
   "source": [
    "#Calculate x, V, and w_hat\n",
    "global x\n",
    "x = np.empty([M,N])\n",
    "intermed = np.empty([M,N])\n",
    "rhsright = np.empty(M)\n",
    "for j in range(M):\n",
    "    for i in range(N): \n",
    "        x[j][i] = 1./rho[j]*(rright[i]*sc.j1(rho[j]*2.*np.pi*rright[i]) - rleft[i]*sc.j1(rho[j]*2.*np.pi*rleft[i]))\n",
    "        intermed[j][i] = dwgt.real[j]*x[j][i]\n",
    "        rhsright[j] = dwgt.real[j]*y[j]\n",
    "global lhs\n",
    "lhs = np.linalg.inv(np.dot(np.transpose(x),intermed))  #This is Vw undertilde inverse\n",
    "rhs = np.dot(np.transpose(x), rhsright)\n",
    "global result\n",
    "result = np.dot(lhs, rhs) #This is w_hat\n",
    "print result\n",
    "del intermed, rhs"
   ]
  },
  {
   "cell_type": "markdown",
   "metadata": {},
   "source": [
    "Above we assumed the prior is a constant function.  If we instead assume the prior is a multi-dimensional Gaussian, the prior becomes:\n",
    "$$\n",
    "P(\\vec{w}) = N\\left(\\vec{w} | \\vec{\\mu}, \\undertilde{C} \\right)\n",
    "$$\n"
   ]
  },
  {
   "cell_type": "markdown",
   "metadata": {},
   "source": [
    "This ($m$,$m$) sized covariance matrix $\\undertilde{C}$ is a function of the hyperparameters, $\\undertilde{C}(a, l, \\sigma_w)$ and evaluated at each pair of bin points:\n",
    "$$\n",
    "\\undertilde{C} = \\begin{bmatrix}\n",
    "k(w_1, w_1) & ... & k(w_1, w_m)\\\\\n",
    "\\vdots & \\ddots &  \\vdots \\\\\n",
    "k(w_m, w_1) & ... & k(w_m, w_m)\\\\\n",
    "\\end{bmatrix}\n",
    "$$\n",
    "which uses the squared-exponential kernel:\n",
    "$$\n",
    "k(w_a, w_b | a, l, \\sigma_w) = a^2 \\exp \\left (-\\frac{(w_a - w_b)^2}{2 l^2} \\right) + \\sigma_w^2 \\delta_{ab}\n",
    "$$\n",
    "\n",
    "The posterior is described by a new multi-dimensional Gaussian\n",
    "$$\n",
    "P\\left(\\vec{w}\\rvert\\vec{Y}\\right) \\propto N\\left(\\vec{w} \\rvert \\tilde{w},\\undertilde{S_w}\\right)\n",
    "$$\n",
    "with covariance matrix\n",
    "$$\n",
    "\\undertilde{S_w}^{-1} = \\undertilde{V_w}^{-1} + \\undertilde{C}^{-1}\n",
    "$$\n",
    "and mean\n",
    "$$\n",
    "\\tilde{w} = \\undertilde{S_w} \\left[ \\undertilde{V_w}^{-1} \\hat{w} + \\undertilde{C}^{-1} \\vec{0} \\right] = \\undertilde{S_w} \\undertilde{V_w}^{-1} \\hat{w}\n",
    "$$\n"
   ]
  },
  {
   "cell_type": "markdown",
   "metadata": {},
   "source": [
    "For some values of $a$ and $l$ and the chosen mean:"
   ]
  },
  {
   "cell_type": "code",
   "execution_count": 142,
   "metadata": {
    "collapsed": false
   },
   "outputs": [],
   "source": [
    "#Hyperparameters\n",
    "gpa = 0.05\n",
    "gam = 1.\n",
    "gpl = .15\n",
    "\n",
    "#True SB\n",
    "flux = 0.12\n",
    "sig = 0.6\n",
    "incl = 50.\n",
    "PA = 70.\n",
    "offx = -0.3\n",
    "offy = -0.2\n",
    "nominal_SB = (sig/cb)**0.7 * np.exp(-(cb/sig)**2.5)\t# fullA distribution\n",
    "int_SB = np.trapz(2.*np.pi*nominal_SB*cb, cb)\t\t# a check on the total flux\n",
    "nominal_SB *= flux / int_SB\n",
    "meanw = nominal_SB #What to use for the mean in C, the bin intensities' covariance matrix"
   ]
  },
  {
   "cell_type": "markdown",
   "metadata": {},
   "source": [
    "We calculate the new mean and covariance matrix with:"
   ]
  },
  {
   "cell_type": "code",
   "execution_count": 122,
   "metadata": {
    "collapsed": false
   },
   "outputs": [],
   "source": [
    "def kexp2(i1, i2, ibins=None, a=None, l=None, gamma=None):\n",
    "    ri = ibins[i1]\n",
    "    rj = ibins[i2]\n",
    "    return ri**gamma*a*a * np.exp(-((ri - rj)**2.)/(2.*l*l)) #Doesn't have cross term\n",
    "\n",
    "def calccovar(binsin, ain, lin, gamin):\n",
    "    '''\n",
    "    Calculate the covariance matrix using a squared exponential kernel\n",
    "    a: normalization amplitude\n",
    "    l: correlation length\n",
    "    '''\n",
    "    nbins = binsin.shape[0]\n",
    "    cov = np.fromfunction(kexp2,(nbins,nbins), ibins=binsin, a=ain, l=lin, gamma = gamin, dtype = np.int)\n",
    "    return cov\n",
    "\n",
    "def calcwtilde(gpain, gplin, meanwin):\n",
    "    #Calculate covariance\n",
    "    global C, Swinv\n",
    "    C = calccovar(cb, gpain, gplin, gam)\n",
    "    Cinv = np.linalg.inv(C)\n",
    "    Swinv = lhs + Cinv\n",
    "\n",
    "    #Return new mean (wtilde)\n",
    "    intermed2 = np.dot(Cinv,meanwin)\n",
    "    wtilde = np.dot(np.linalg.inv(Swinv),np.dot(lhs,result)) + np.dot(np.linalg.inv(Swinv),intermed2)\n",
    "    return wtilde"
   ]
  },
  {
   "cell_type": "code",
   "execution_count": 141,
   "metadata": {
    "collapsed": false
   },
   "outputs": [
    {
     "name": "stdout",
     "output_type": "stream",
     "text": [
      "[ 1747029.03373718  5074354.65249634  3164417.28735352 -1284863.86828613\n",
      " -5354894.07119751 -6927738.54776001 -5851730.89587402 -3057184.78752136\n",
      "   406119.9516983   3487772.01538086  5150080.659729    4852016.787323\n",
      "  2965471.17254639   473263.93266296 -1783928.03677368 -3530061.47180176\n",
      " -4852709.10736084 -5786383.83514404 -6171441.0625     -5845037.94348145\n",
      " -4872756.02218628 -3571642.57531738 -2331674.62985229 -1412646.16609192\n",
      "  -864202.28219604  -580871.80215454  -406293.92226028  -204562.13180256\n",
      "   118928.72927856]\n"
     ]
    },
    {
     "data": {
      "text/plain": [
       "<matplotlib.legend.Legend at 0x1278ac850>"
      ]
     },
     "execution_count": 141,
     "metadata": {},
     "output_type": "execute_result"
    },
    {
     "data": {
      "image/png": "[encoded data removed]",
      "text/plain": [
       "<matplotlib.figure.Figure at 0x12712cd90>"
      ]
     },
     "metadata": {},
     "output_type": "display_data"
    }
   ],
   "source": [
    "wtilde = calcwtilde(gpa, gpl, meanw)\n",
    "print wtilde\n",
    "#Plot output\n",
    "plt.figure(1)\n",
    "#plt.subplot(2,1,1)\n",
    "plt.plot(cb, nominal_SB, 'ks')\n",
    "plt.plot(cb, nominal_SB, '-k')\n",
    "plt.plot(cb, result, 'bo', label=r\"$\\hat{w}$\")\n",
    "plt.plot(cb, wtilde, 'ro', label=r\"${w}~w/GP$\")\n",
    "plt.plot(cb[0],[.47],'*g')\n",
    "ax = plt.gca()\n",
    "plt.xlim(.4*b[0], 1.1*b[-1])\n",
    "ax.set_xscale('log')\n",
    "ax.set_yscale('log')\n",
    "plt.legend(loc=\"lower left\")"
   ]
  },
  {
   "cell_type": "markdown",
   "metadata": {
    "collapsed": false
   },
   "source": [
    "plt.subplot(311)\n",
    "plt.title('Draws from C')\n",
    "for draw in np.random.multivariate_normal(np.zeros_like(result), C, size=20):\n",
    "    plt.plot(cb, draw, color=\"0.5\")\n",
    "\n",
    "plt.plot(cb, nominal_SB-result, 'bo')\n",
    "\n",
    "plt.subplot(312)        \n",
    "plt.title('Draws from Vw')\n",
    "for draw in np.random.multivariate_normal(result, np.linalg.inv(lhs), size=20):\n",
    "    plt.plot(cb, draw, color=\"0.5\")\n",
    "\n",
    "plt.plot(cb, result, color=\"b\", label=r\"$\\hat{w}$\")\n",
    "plt.plot(cb, wtilde, color=\"r\", label=r\"${w}~w/GP$\")\n",
    "plt.plot(cb, nominal_SB, color=\"k\", label=\"truth\")\n",
    "\n",
    "\n",
    "plt.subplot(313)\n",
    "plt.title('Draws from Sw')\n",
    "this = np.random.multivariate_normal(wtilde, np.linalg.inv(Swinv), size=10000)\n",
    "\n",
    "for draw in np.random.multivariate_normal(wtilde, np.linalg.inv(Swinv), size=20):\n",
    "    plt.plot(cb, draw, color=\"0.5\")\n",
    "plt.plot(cb, result, color=\"b\", label=r\"$\\hat{w}$\", marker = 'o', linestyle='-')\n",
    "plt.plot(cb, wtilde, color=\"r\", label=r\"${w}~w/GP$\", marker = 'o', linestyle='-')\n",
    "plt.plot(cb, nominal_SB, color=\"k\", label=\"truth\")\n",
    "\n",
    "\n",
    "plt.legend(loc=\"upper right\")\n",
    "\n"
   ]
  },
  {
   "cell_type": "markdown",
   "metadata": {
    "collapsed": false,
    "scrolled": true
   },
   "source": [
    "#Plot corner diagram\n",
    "import corner\n",
    "fig = corner.corner(this, show_titles=True, quantiles=(0.16, 0.84))\n"
   ]
  },
  {
   "cell_type": "markdown",
   "metadata": {
    "collapsed": false
   },
   "source": [
    "k1 = np.zeros([M,N])\n",
    "#k1 = np.dot(x,C)\n",
    "for j in xrange(M):\n",
    "    for i in xrange(N): \n",
    "        k1[j][i] = np.dot(x[j],C[:,i])\n",
    "k = np.zeros([M,M])        \n",
    "tic =  time.time()\n",
    "print tic\n",
    "for mm1 in xrange(M):\n",
    "    if (mm1%100==0):\n",
    "        print mm1\n",
    "        print (time.time()-tic)/60\n",
    "    for mm2 in xrange(M):\n",
    "        k[mm1][mm2] = np.dot(k1[mm2],x[mm1])"
   ]
  },
  {
   "cell_type": "code",
   "execution_count": 134,
   "metadata": {
    "collapsed": false
   },
   "outputs": [],
   "source": [
    "#Calculate the evidence as a function of GP amplitude and length\n",
    "def calcZ(theta, cb):\n",
    "    ggpa = theta[0]\n",
    "    ggpl = theta[1]\n",
    "    C = calccovar(cb, ggpa, ggpl, 1.)\n",
    "    K = np.zeros([M,M])  \n",
    "    K = sigma + np.dot(np.dot(x,C),np.transpose(x))\n",
    "    (sign,logdet) = np.linalg.slogdet(2.*np.pi*K)\n",
    "    logZ = -.5*(logdet+np.dot(np.dot(np.transpose(y),np.linalg.inv(K)),y))\n",
    "#    if (sign<0): print \"Warning, negative determinant\"\n",
    "    return logZ"
   ]
  },
  {
   "cell_type": "code",
   "execution_count": 154,
   "metadata": {
    "collapsed": false
   },
   "outputs": [
    {
     "name": "stdout",
     "output_type": "stream",
     "text": [
      "[ -8.88178420e-16   3.00000000e-03]\n",
      "[ 0.46467203  0.25126902  0.20544873  0.17348222  0.14913782  0.12946328\n",
      "  0.11289174  0.09852997  0.08584555  0.07451249  0.06432783  0.05516304\n",
      "  0.04693398  0.03958164  0.03305944  0.027325    0.02233507  0.0180427\n",
      "  0.01439622  0.01133944  0.00881269  0.00675444  0.00510312  0.0037989\n",
      "  0.00278532  0.00201053  0.00142824  0.00099812  0.00068596]\n"
     ]
    },
    {
     "data": {
      "image/png": "[encoded data removed]",
      "text/plain": [
       "<matplotlib.figure.Figure at 0x12c5972d0>"
      ]
     },
     "metadata": {},
     "output_type": "display_data"
    }
   ],
   "source": [
    "#Minimize the evidence for GP amplitude and length\n",
    "from scipy.optimize import minimize\n",
    "thetaguess = np.array([1,.002])\n",
    "opt = minimize(calcZ, thetaguess, args=(cb), method='Nelder-Mead', tol=1e-6)\n",
    "print opt.x\n",
    "\n",
    "#Examine new output\n",
    "wtilde = calcwtilde(opt.x[0], opt.x[1], meanw)\n",
    "print wtilde\n",
    "#Plot output\n",
    "plt.figure(1)\n",
    "plt.subplot(2,1,1)\n",
    "plt.plot(cb, nominal_SB, 'ks')\n",
    "plt.plot(cb, nominal_SB, '-k')\n",
    "plt.plot(cb, result, 'bo', label=r\"$\\hat{w}$\")\n",
    "plt.plot(cb, wtilde, 'ro', label=r\"${w}~w/GP$\")\n",
    "plt.plot(cb[0],[.47],'*g')\n",
    "ax = plt.gca()\n",
    "plt.xlim(.4*b[0], 1.1*b[-1])\n",
    "ax.set_xscale('log')\n",
    "ax.set_yscale('log')\n",
    "plt.legend(loc=\"lower left\")\n",
    "plt.title('Mean: truth')\n",
    "\n",
    "#Plot residuals\n",
    "plt.subplot(212)\n",
    "plt.plot(cb, nominal_SB-wtilde, 'ro')\n",
    "plt.savefig(\"hyperparamopt_meantruth.png\")"
   ]
  },
  {
   "cell_type": "code",
   "execution_count": 163,
   "metadata": {
    "collapsed": false
   },
   "outputs": [
    {
     "data": {
      "image/png": "[encoded data removed]",
      "text/plain": [
       "<matplotlib.figure.Figure at 0x12c754a50>"
      ]
     },
     "metadata": {},
     "output_type": "display_data"
    }
   ],
   "source": [
    "import d3sbfxns as f\n",
    "synthimg = 'DATA/fullA.image.fits'\n",
    "rsb, sb, beaminfo = f.sbdata(synthimg, PA, incl, offx, offy)\n",
    "sbbin, sigmabin = f.sbmeanbin(rin, b, rsb, sb)\n",
    "wtilde = calcwtilde(opt.x[0], opt.x[1], sbbin)\n",
    "plt.subplot(211)\n",
    "plt.plot(cb, nominal_SB, 'ks')\n",
    "plt.plot(cb, nominal_SB, '-k')\n",
    "plt.plot(cb, result, 'bo', label=r\"$\\hat{w}$\")\n",
    "plt.plot(cb, wtilde, 'ro', label=r\"${w}~w/GP$\")\n",
    "plt.plot(cb[0],[.47],'*g')\n",
    "ax = plt.gca()\n",
    "plt.xlim(.4*b[0], 1.1*b[-1])\n",
    "ax.set_xscale('log')\n",
    "ax.set_yscale('log')\n",
    "plt.legend(loc=\"lower left\")\n",
    "plt.title('Mean: image')\n",
    "\n",
    "#Plot residuals\n",
    "plt.subplot(212)\n",
    "plt.plot(cb, (nominal_SB-wtilde), 'ro')\n",
    "q = wtilde[nominal_SB<wtilde]\n",
    "plt.plot(cb[nominal_SB<wtilde],np.fabs(nominal_SB[nominal_SB<wtilde]-q),'ks')\n",
    "ax = plt.gca()\n",
    "plt.xlim(.4*b[0], 1.1*b[-1])\n",
    "ax.set_yscale('log')\n",
    "plt.savefig(\"hyperparamopt_meanimage.png\")"
   ]
  },
  {
   "cell_type": "code",
   "execution_count": null,
   "metadata": {
    "collapsed": true
   },
   "outputs": [],
   "source": []
  }
 ],
 "metadata": {
  "kernelspec": {
   "display_name": "Python 2",
   "language": "python",
   "name": "python2"
  },
  "language_info": {
   "codemirror_mode": {
    "name": "ipython",
    "version": 2
   },
   "file_extension": ".py",
   "mimetype": "text/x-python",
   "name": "python",
   "nbconvert_exporter": "python",
   "pygments_lexer": "ipython2",
   "version": "2.7.10"
  }
 },
 "nbformat": 4,
 "nbformat_minor": 0
}
